{
  "nbformat": 4,
  "nbformat_minor": 0,
  "metadata": {
    "colab": {
      "provenance": [],
      "gpuType": "T4",
      "authorship_tag": "ABX9TyNJRWOHx9PSO8wDlxajVUVU",
      "include_colab_link": true
    },
    "kernelspec": {
      "name": "python3",
      "display_name": "Python 3"
    },
    "language_info": {
      "name": "python"
    },
    "accelerator": "GPU",
    "widgets": {
      "application/vnd.jupyter.widget-state+json": {
        "2471a9f6edb54fa2a5e86be1e5c27367": {
          "model_module": "@jupyter-widgets/controls",
          "model_name": "HBoxModel",
          "model_module_version": "1.5.0",
          "state": {
            "_dom_classes": [],
            "_model_module": "@jupyter-widgets/controls",
            "_model_module_version": "1.5.0",
            "_model_name": "HBoxModel",
            "_view_count": null,
            "_view_module": "@jupyter-widgets/controls",
            "_view_module_version": "1.5.0",
            "_view_name": "HBoxView",
            "box_style": "",
            "children": [
              "IPY_MODEL_68018c92abb54aaa9555ac8d4e43bac5",
              "IPY_MODEL_23c7c8c7c7d04ce99a77888ba95b4de9",
              "IPY_MODEL_f6510a178f9b457986e3db8dcc087ed7"
            ],
            "layout": "IPY_MODEL_316ebbbf0f2f42919d1041b4ae82f8b5"
          }
        },
        "68018c92abb54aaa9555ac8d4e43bac5": {
          "model_module": "@jupyter-widgets/controls",
          "model_name": "HTMLModel",
          "model_module_version": "1.5.0",
          "state": {
            "_dom_classes": [],
            "_model_module": "@jupyter-widgets/controls",
            "_model_module_version": "1.5.0",
            "_model_name": "HTMLModel",
            "_view_count": null,
            "_view_module": "@jupyter-widgets/controls",
            "_view_module_version": "1.5.0",
            "_view_name": "HTMLView",
            "description": "",
            "description_tooltip": null,
            "layout": "IPY_MODEL_ad109be22c9849108535f8b0cd891c8f",
            "placeholder": "​",
            "style": "IPY_MODEL_11b40978d3f646a7acc60d96244bc5fa",
            "value": "100%"
          }
        },
        "23c7c8c7c7d04ce99a77888ba95b4de9": {
          "model_module": "@jupyter-widgets/controls",
          "model_name": "FloatProgressModel",
          "model_module_version": "1.5.0",
          "state": {
            "_dom_classes": [],
            "_model_module": "@jupyter-widgets/controls",
            "_model_module_version": "1.5.0",
            "_model_name": "FloatProgressModel",
            "_view_count": null,
            "_view_module": "@jupyter-widgets/controls",
            "_view_module_version": "1.5.0",
            "_view_name": "ProgressView",
            "bar_style": "success",
            "description": "",
            "description_tooltip": null,
            "layout": "IPY_MODEL_3320aa3da5824d2b9c965d83633bd0ec",
            "max": 20,
            "min": 0,
            "orientation": "horizontal",
            "style": "IPY_MODEL_16c7d61648a045d289c402f17ba7ed00",
            "value": 20
          }
        },
        "f6510a178f9b457986e3db8dcc087ed7": {
          "model_module": "@jupyter-widgets/controls",
          "model_name": "HTMLModel",
          "model_module_version": "1.5.0",
          "state": {
            "_dom_classes": [],
            "_model_module": "@jupyter-widgets/controls",
            "_model_module_version": "1.5.0",
            "_model_name": "HTMLModel",
            "_view_count": null,
            "_view_module": "@jupyter-widgets/controls",
            "_view_module_version": "1.5.0",
            "_view_name": "HTMLView",
            "description": "",
            "description_tooltip": null,
            "layout": "IPY_MODEL_0de36cd0865a44a688558a5ee3fc7c0d",
            "placeholder": "​",
            "style": "IPY_MODEL_5cc5765edc164b57a36240046e29311e",
            "value": " 20/20 [00:16&lt;00:00,  1.21it/s]"
          }
        },
        "316ebbbf0f2f42919d1041b4ae82f8b5": {
          "model_module": "@jupyter-widgets/base",
          "model_name": "LayoutModel",
          "model_module_version": "1.2.0",
          "state": {
            "_model_module": "@jupyter-widgets/base",
            "_model_module_version": "1.2.0",
            "_model_name": "LayoutModel",
            "_view_count": null,
            "_view_module": "@jupyter-widgets/base",
            "_view_module_version": "1.2.0",
            "_view_name": "LayoutView",
            "align_content": null,
            "align_items": null,
            "align_self": null,
            "border": null,
            "bottom": null,
            "display": null,
            "flex": null,
            "flex_flow": null,
            "grid_area": null,
            "grid_auto_columns": null,
            "grid_auto_flow": null,
            "grid_auto_rows": null,
            "grid_column": null,
            "grid_gap": null,
            "grid_row": null,
            "grid_template_areas": null,
            "grid_template_columns": null,
            "grid_template_rows": null,
            "height": null,
            "justify_content": null,
            "justify_items": null,
            "left": null,
            "margin": null,
            "max_height": null,
            "max_width": null,
            "min_height": null,
            "min_width": null,
            "object_fit": null,
            "object_position": null,
            "order": null,
            "overflow": null,
            "overflow_x": null,
            "overflow_y": null,
            "padding": null,
            "right": null,
            "top": null,
            "visibility": null,
            "width": null
          }
        },
        "ad109be22c9849108535f8b0cd891c8f": {
          "model_module": "@jupyter-widgets/base",
          "model_name": "LayoutModel",
          "model_module_version": "1.2.0",
          "state": {
            "_model_module": "@jupyter-widgets/base",
            "_model_module_version": "1.2.0",
            "_model_name": "LayoutModel",
            "_view_count": null,
            "_view_module": "@jupyter-widgets/base",
            "_view_module_version": "1.2.0",
            "_view_name": "LayoutView",
            "align_content": null,
            "align_items": null,
            "align_self": null,
            "border": null,
            "bottom": null,
            "display": null,
            "flex": null,
            "flex_flow": null,
            "grid_area": null,
            "grid_auto_columns": null,
            "grid_auto_flow": null,
            "grid_auto_rows": null,
            "grid_column": null,
            "grid_gap": null,
            "grid_row": null,
            "grid_template_areas": null,
            "grid_template_columns": null,
            "grid_template_rows": null,
            "height": null,
            "justify_content": null,
            "justify_items": null,
            "left": null,
            "margin": null,
            "max_height": null,
            "max_width": null,
            "min_height": null,
            "min_width": null,
            "object_fit": null,
            "object_position": null,
            "order": null,
            "overflow": null,
            "overflow_x": null,
            "overflow_y": null,
            "padding": null,
            "right": null,
            "top": null,
            "visibility": null,
            "width": null
          }
        },
        "11b40978d3f646a7acc60d96244bc5fa": {
          "model_module": "@jupyter-widgets/controls",
          "model_name": "DescriptionStyleModel",
          "model_module_version": "1.5.0",
          "state": {
            "_model_module": "@jupyter-widgets/controls",
            "_model_module_version": "1.5.0",
            "_model_name": "DescriptionStyleModel",
            "_view_count": null,
            "_view_module": "@jupyter-widgets/base",
            "_view_module_version": "1.2.0",
            "_view_name": "StyleView",
            "description_width": ""
          }
        },
        "3320aa3da5824d2b9c965d83633bd0ec": {
          "model_module": "@jupyter-widgets/base",
          "model_name": "LayoutModel",
          "model_module_version": "1.2.0",
          "state": {
            "_model_module": "@jupyter-widgets/base",
            "_model_module_version": "1.2.0",
            "_model_name": "LayoutModel",
            "_view_count": null,
            "_view_module": "@jupyter-widgets/base",
            "_view_module_version": "1.2.0",
            "_view_name": "LayoutView",
            "align_content": null,
            "align_items": null,
            "align_self": null,
            "border": null,
            "bottom": null,
            "display": null,
            "flex": null,
            "flex_flow": null,
            "grid_area": null,
            "grid_auto_columns": null,
            "grid_auto_flow": null,
            "grid_auto_rows": null,
            "grid_column": null,
            "grid_gap": null,
            "grid_row": null,
            "grid_template_areas": null,
            "grid_template_columns": null,
            "grid_template_rows": null,
            "height": null,
            "justify_content": null,
            "justify_items": null,
            "left": null,
            "margin": null,
            "max_height": null,
            "max_width": null,
            "min_height": null,
            "min_width": null,
            "object_fit": null,
            "object_position": null,
            "order": null,
            "overflow": null,
            "overflow_x": null,
            "overflow_y": null,
            "padding": null,
            "right": null,
            "top": null,
            "visibility": null,
            "width": null
          }
        },
        "16c7d61648a045d289c402f17ba7ed00": {
          "model_module": "@jupyter-widgets/controls",
          "model_name": "ProgressStyleModel",
          "model_module_version": "1.5.0",
          "state": {
            "_model_module": "@jupyter-widgets/controls",
            "_model_module_version": "1.5.0",
            "_model_name": "ProgressStyleModel",
            "_view_count": null,
            "_view_module": "@jupyter-widgets/base",
            "_view_module_version": "1.2.0",
            "_view_name": "StyleView",
            "bar_color": null,
            "description_width": ""
          }
        },
        "0de36cd0865a44a688558a5ee3fc7c0d": {
          "model_module": "@jupyter-widgets/base",
          "model_name": "LayoutModel",
          "model_module_version": "1.2.0",
          "state": {
            "_model_module": "@jupyter-widgets/base",
            "_model_module_version": "1.2.0",
            "_model_name": "LayoutModel",
            "_view_count": null,
            "_view_module": "@jupyter-widgets/base",
            "_view_module_version": "1.2.0",
            "_view_name": "LayoutView",
            "align_content": null,
            "align_items": null,
            "align_self": null,
            "border": null,
            "bottom": null,
            "display": null,
            "flex": null,
            "flex_flow": null,
            "grid_area": null,
            "grid_auto_columns": null,
            "grid_auto_flow": null,
            "grid_auto_rows": null,
            "grid_column": null,
            "grid_gap": null,
            "grid_row": null,
            "grid_template_areas": null,
            "grid_template_columns": null,
            "grid_template_rows": null,
            "height": null,
            "justify_content": null,
            "justify_items": null,
            "left": null,
            "margin": null,
            "max_height": null,
            "max_width": null,
            "min_height": null,
            "min_width": null,
            "object_fit": null,
            "object_position": null,
            "order": null,
            "overflow": null,
            "overflow_x": null,
            "overflow_y": null,
            "padding": null,
            "right": null,
            "top": null,
            "visibility": null,
            "width": null
          }
        },
        "5cc5765edc164b57a36240046e29311e": {
          "model_module": "@jupyter-widgets/controls",
          "model_name": "DescriptionStyleModel",
          "model_module_version": "1.5.0",
          "state": {
            "_model_module": "@jupyter-widgets/controls",
            "_model_module_version": "1.5.0",
            "_model_name": "DescriptionStyleModel",
            "_view_count": null,
            "_view_module": "@jupyter-widgets/base",
            "_view_module_version": "1.2.0",
            "_view_name": "StyleView",
            "description_width": ""
          }
        }
      }
    }
  },
  "cells": [
    {
      "cell_type": "markdown",
      "metadata": {
        "id": "view-in-github",
        "colab_type": "text"
      },
      "source": [
        "<a href=\"https://colab.research.google.com/github/amantimalsina/Mamba-SAE/blob/main/Analysis_Mamba_SAEs.ipynb\" target=\"_parent\"><img src=\"https://colab.research.google.com/assets/colab-badge.svg\" alt=\"Open In Colab\"/></a>"
      ]
    },
    {
      "cell_type": "code",
      "source": [
        "%pip install jaxtyping\n",
        "#%pip install transformer_lens\n",
        "%pip install git+https://github.com/callummcdougall/eindex.git"
      ],
      "metadata": {
        "colab": {
          "base_uri": "https://localhost:8080/"
        },
        "id": "TDLXh2VQ9CEG",
        "outputId": "8d9f6faa-c310-44fc-8fe9-b79ec439cf6a"
      },
      "execution_count": null,
      "outputs": [
        {
          "output_type": "stream",
          "name": "stdout",
          "text": [
            "Requirement already satisfied: jaxtyping in /usr/local/lib/python3.10/dist-packages (0.2.33)\n",
            "Requirement already satisfied: typeguard==2.13.3 in /usr/local/lib/python3.10/dist-packages (from jaxtyping) (2.13.3)\n",
            "Collecting git+https://github.com/callummcdougall/eindex.git\n",
            "  Cloning https://github.com/callummcdougall/eindex.git to /tmp/pip-req-build-2m7s884m\n",
            "  Running command git clone --filter=blob:none --quiet https://github.com/callummcdougall/eindex.git /tmp/pip-req-build-2m7s884m\n",
            "  Resolved https://github.com/callummcdougall/eindex.git to commit 39da17a59dcce5caee35c9d00d4a22ba33efe722\n",
            "  Preparing metadata (setup.py) ... \u001b[?25l\u001b[?25hdone\n",
            "Requirement already satisfied: torch in /usr/local/lib/python3.10/dist-packages (from eindex-callum==0.1.1) (2.1.2)\n",
            "Requirement already satisfied: einops in /usr/local/lib/python3.10/dist-packages (from eindex-callum==0.1.1) (0.8.0)\n",
            "Requirement already satisfied: filelock in /usr/local/lib/python3.10/dist-packages (from torch->eindex-callum==0.1.1) (3.15.4)\n",
            "Requirement already satisfied: typing-extensions in /usr/local/lib/python3.10/dist-packages (from torch->eindex-callum==0.1.1) (4.12.2)\n",
            "Requirement already satisfied: sympy in /usr/local/lib/python3.10/dist-packages (from torch->eindex-callum==0.1.1) (1.13.0)\n",
            "Requirement already satisfied: networkx in /usr/local/lib/python3.10/dist-packages (from torch->eindex-callum==0.1.1) (3.3)\n",
            "Requirement already satisfied: jinja2 in /usr/local/lib/python3.10/dist-packages (from torch->eindex-callum==0.1.1) (3.1.4)\n",
            "Requirement already satisfied: fsspec in /usr/local/lib/python3.10/dist-packages (from torch->eindex-callum==0.1.1) (2023.6.0)\n",
            "Requirement already satisfied: nvidia-cuda-nvrtc-cu12==12.1.105 in /usr/local/lib/python3.10/dist-packages (from torch->eindex-callum==0.1.1) (12.1.105)\n",
            "Requirement already satisfied: nvidia-cuda-runtime-cu12==12.1.105 in /usr/local/lib/python3.10/dist-packages (from torch->eindex-callum==0.1.1) (12.1.105)\n",
            "Requirement already satisfied: nvidia-cuda-cupti-cu12==12.1.105 in /usr/local/lib/python3.10/dist-packages (from torch->eindex-callum==0.1.1) (12.1.105)\n",
            "Requirement already satisfied: nvidia-cudnn-cu12==8.9.2.26 in /usr/local/lib/python3.10/dist-packages (from torch->eindex-callum==0.1.1) (8.9.2.26)\n",
            "Requirement already satisfied: nvidia-cublas-cu12==12.1.3.1 in /usr/local/lib/python3.10/dist-packages (from torch->eindex-callum==0.1.1) (12.1.3.1)\n",
            "Requirement already satisfied: nvidia-cufft-cu12==11.0.2.54 in /usr/local/lib/python3.10/dist-packages (from torch->eindex-callum==0.1.1) (11.0.2.54)\n",
            "Requirement already satisfied: nvidia-curand-cu12==10.3.2.106 in /usr/local/lib/python3.10/dist-packages (from torch->eindex-callum==0.1.1) (10.3.2.106)\n",
            "Requirement already satisfied: nvidia-cusolver-cu12==11.4.5.107 in /usr/local/lib/python3.10/dist-packages (from torch->eindex-callum==0.1.1) (11.4.5.107)\n",
            "Requirement already satisfied: nvidia-cusparse-cu12==12.1.0.106 in /usr/local/lib/python3.10/dist-packages (from torch->eindex-callum==0.1.1) (12.1.0.106)\n",
            "Requirement already satisfied: nvidia-nccl-cu12==2.18.1 in /usr/local/lib/python3.10/dist-packages (from torch->eindex-callum==0.1.1) (2.18.1)\n",
            "Requirement already satisfied: nvidia-nvtx-cu12==12.1.105 in /usr/local/lib/python3.10/dist-packages (from torch->eindex-callum==0.1.1) (12.1.105)\n",
            "Requirement already satisfied: triton==2.1.0 in /usr/local/lib/python3.10/dist-packages (from torch->eindex-callum==0.1.1) (2.1.0)\n",
            "Requirement already satisfied: nvidia-nvjitlink-cu12 in /usr/local/lib/python3.10/dist-packages (from nvidia-cusolver-cu12==11.4.5.107->torch->eindex-callum==0.1.1) (12.6.68)\n",
            "Requirement already satisfied: MarkupSafe>=2.0 in /usr/local/lib/python3.10/dist-packages (from jinja2->torch->eindex-callum==0.1.1) (2.1.5)\n",
            "Requirement already satisfied: mpmath<1.4,>=1.1.0 in /usr/local/lib/python3.10/dist-packages (from sympy->torch->eindex-callum==0.1.1) (1.3.0)\n",
            "Building wheels for collected packages: eindex-callum\n",
            "  Building wheel for eindex-callum (setup.py) ... \u001b[?25l\u001b[?25hdone\n",
            "  Created wheel for eindex-callum: filename=eindex_callum-0.1.1-py3-none-any.whl size=8325 sha256=e37809ff26236d421344147c8fca396c7a4d0b9eee862872f40acc0b76ea12b0\n",
            "  Stored in directory: /tmp/pip-ephem-wheel-cache-958_5bfu/wheels/be/f6/8f/ebc7ec9e5bc5dff7be37fdce107f68449672f9c79b5df9328a\n",
            "Successfully built eindex-callum\n",
            "Installing collected packages: eindex-callum\n",
            "Successfully installed eindex-callum-0.1.1\n"
          ]
        }
      ]
    },
    {
      "cell_type": "code",
      "source": [
        "## Previous Imports:\n",
        "# %%\n",
        "import os\n",
        "import json\n",
        "import random\n",
        "from pathlib import Path\n",
        "import gc\n",
        "from typing import List, Tuple, Union\n",
        "from rich import print as rprint\n",
        "from rich.table import Table\n",
        "from IPython.display import display, HTML\n",
        "import matplotlib.pyplot as plt\n",
        "import seaborn as sns\n",
        "# %%\n",
        "import torch\n",
        "import torch as t\n",
        "from torch import nn, Tensor\n",
        "import torch.nn as nn\n",
        "import torch.nn.functional as F\n",
        "import torch.optim as optim\n",
        "from torch.distributions.categorical import Categorical\n",
        "import numpy as np\n",
        "import einops\n",
        "from jaxtyping import Float, Int\n",
        "from typing import Optional, Callable, Union, List, Tuple\n",
        "from functools import partial\n",
        "# %%\n",
        "import wandb\n",
        "from tqdm.notebook import tqdm\n",
        "import pprint\n",
        "# %%\n",
        "import argparse\n",
        "# %%\n",
        "from transformers import AutoTokenizer\n",
        "import datasets\n",
        "from datasets import load_dataset\n",
        "from dataclasses import dataclass\n",
        "# %%\n",
        "from transformer_lens.utils import test_prompt\n",
        "import circuitsvis as cv  # optional dep, install with pip install circuitsvis\n",
        "from functools import partial\n",
        "from transformer_lens.hook_points import HookPoint\n",
        "\n",
        "from transformer_lens.utils import (\n",
        "    load_dataset,\n",
        "    tokenize_and_concatenate,\n",
        "    download_file_from_hf,\n",
        ")\n",
        "# %%\n",
        "import mamba_lens\n",
        "from mamba_lens import HookedMamba"
      ],
      "metadata": {
        "id": "1foQ-gpsJy_k"
      },
      "execution_count": null,
      "outputs": []
    },
    {
      "cell_type": "code",
      "source": [
        "# %%\n",
        "DTYPES = {\n",
        "    \"fp32\": t.float32,\n",
        "    \"fp16\": t.float16,\n",
        "    \"bf16\": t.bfloat16\n",
        "} # Add this line to define DTYPES"
      ],
      "metadata": {
        "id": "xrHKsT3xLknv"
      },
      "execution_count": null,
      "outputs": []
    },
    {
      "cell_type": "code",
      "source": [
        "class AutoEncoder(nn.Module):\n",
        "    def __init__(self, cfg):\n",
        "        super().__init__()\n",
        "        d_hidden = cfg[\"dict_size\"]\n",
        "        l1_coeff = cfg[\"l1_coeff\"]\n",
        "        dtype = DTYPES[cfg[\"enc_dtype\"]]\n",
        "        t.manual_seed(cfg[\"seed\"])\n",
        "        self.W_enc = nn.Parameter(t.nn.init.kaiming_uniform_(t.empty(cfg[\"act_size\"], d_hidden, dtype=dtype)))\n",
        "        self.W_dec = nn.Parameter(t.nn.init.kaiming_uniform_(t.empty(d_hidden, cfg[\"act_size\"], dtype=dtype)))\n",
        "        self.b_enc = nn.Parameter(t.zeros(d_hidden, dtype=dtype))\n",
        "        self.b_dec = nn.Parameter(t.zeros(cfg[\"act_size\"], dtype=dtype))\n",
        "\n",
        "        self.W_dec.data[:] = self.W_dec / self.W_dec.norm(dim=-1, keepdim=True)\n",
        "\n",
        "        self.d_hidden = d_hidden\n",
        "        self.l1_coeff = l1_coeff\n",
        "\n",
        "        self.to(cfg[\"device\"])\n",
        "\n",
        "    def forward(self, x):\n",
        "        #print(f\"x.shape: {x.shape}\")\n",
        "        x_cent = x - self.b_dec\n",
        "        #print(f\"x_cent.shape: {x_cent.shape}\")\n",
        "        acts = F.relu(x_cent @ self.W_enc + self.b_enc)\n",
        "        #print(f\"acts.shape: {acts.shape}\")\n",
        "        x_reconstruct = acts @ self.W_dec + self.b_dec\n",
        "        #print(f\"x_reconstruct.shape: {x_reconstruct.shape}\")\n",
        "        l2_loss = (x_reconstruct.float() - x.float()).pow(2).sum(-1).mean()\n",
        "        #print(f\"l2_loss: {l2_loss}\")\n",
        "        l1_loss = self.l1_coeff * (acts.float().abs().sum())\n",
        "        #print(f\"l1_loss: {l1_loss}\")\n",
        "        loss = l2_loss + l1_loss\n",
        "        #print(f\"loss: {loss}\")\n",
        "        return loss, x_reconstruct, acts, l2_loss, l1_loss\n",
        "\n",
        "    @torch.no_grad()\n",
        "    def make_decoder_weights_and_grad_unit_norm(self):\n",
        "        W_dec_normed = self.W_dec / self.W_dec.norm(dim=-1, keepdim=True)\n",
        "        W_dec_grad_proj = (self.W_dec.grad * W_dec_normed).sum(-1, keepdim=True) * W_dec_normed\n",
        "        self.W_dec.grad -= W_dec_grad_proj\n",
        "        # Bugfix(?) for ensuring W_dec retains unit norm, this was not there when I trained my original autoencoders.\n",
        "        self.W_dec.data = W_dec_normed\n",
        "\n",
        "    def get_version(self):\n",
        "        version_list = [int(file.name.split(\".\")[0]) for file in list(SAVE_DIR.iterdir()) if \"pt\" in str(file)]\n",
        "        if len(version_list):\n",
        "            return 1+max(version_list)\n",
        "        else:\n",
        "            return 0\n",
        "\n",
        "    def save(self):\n",
        "        version = self.get_version()\n",
        "        torch.save(self.state_dict(), SAVE_DIR/(str(version)+\".pt\"))\n",
        "        with open(SAVE_DIR/(str(version)+\"_cfg.json\"), \"w\") as f:\n",
        "            json.dump(cfg, f)\n",
        "        print(\"Saved as version\", version)\n",
        "\n",
        "    @classmethod\n",
        "    def load(cls, version):\n",
        "        cfg = (json.load(open(SAVE_DIR/(str(version)+\"_cfg.json\"), \"r\")))\n",
        "        pprint.pprint(cfg)\n",
        "        self = cls(cfg=cfg)\n",
        "        self.load_state_dict(torch.load(SAVE_DIR/(str(version)+\".pt\")))\n",
        "        return self"
      ],
      "metadata": {
        "id": "upwMYGpYKGkI"
      },
      "execution_count": null,
      "outputs": []
    },
    {
      "cell_type": "code",
      "source": [
        "def load_autoencoder_from_huggingface():\n",
        "    state_dict = {}\n",
        "    version_id = 72\n",
        "    # Load the data from huggingface (both metadata and state dict)\n",
        "    sae_data: dict = download_file_from_hf(\"amantimalsina/mamba-sae\", f\"{version_id}_cfg.json\")\n",
        "    new_state_dict: dict = download_file_from_hf(\"amantimalsina/mamba-sae\", f\"{version_id}.pt\", force_is_torch=True)\n",
        "    # Add new state dict to the existing one\n",
        "    for k, v in new_state_dict.items():\n",
        "        state_dict[k] = t.stack([state_dict[k], v]) if k in state_dict else v\n",
        "\n",
        "    cfg = sae_data\n",
        "\n",
        "    autoencoder = AutoEncoder(cfg)\n",
        "    autoencoder.load_state_dict(state_dict)\n",
        "\n",
        "    return autoencoder, cfg\n",
        "\n",
        "\n",
        "autoencoder, cfg = load_autoencoder_from_huggingface()\n",
        "autoencoder.to(cfg[\"device\"])\n",
        "autoencoder.eval()"
      ],
      "metadata": {
        "colab": {
          "base_uri": "https://localhost:8080/"
        },
        "id": "bdsgNp9e9SLX",
        "outputId": "7c3226c1-65de-48d5-fab5-8ad6090fb122"
      },
      "execution_count": null,
      "outputs": [
        {
          "output_type": "stream",
          "name": "stderr",
          "text": [
            "/usr/local/lib/python3.10/dist-packages/huggingface_hub/utils/_token.py:89: UserWarning: \n",
            "The secret `HF_TOKEN` does not exist in your Colab secrets.\n",
            "To authenticate with the Hugging Face Hub, create a token in your settings tab (https://huggingface.co/settings/tokens), set it as secret in your Google Colab and restart your session.\n",
            "You will be able to reuse this secret in all of your notebooks.\n",
            "Please note that authentication is recommended but still optional to access public models or datasets.\n",
            "  warnings.warn(\n"
          ]
        },
        {
          "output_type": "execute_result",
          "data": {
            "text/plain": [
              "AutoEncoder()"
            ]
          },
          "metadata": {},
          "execution_count": 5
        }
      ]
    },
    {
      "cell_type": "code",
      "source": [
        "model = mamba_lens.HookedMamba.from_pretrained(\n",
        "                              \"state-spaces/mamba-130m\",\n",
        "                              device='cuda'\n",
        "                              )\n",
        "tokenizer = AutoTokenizer.from_pretrained('EleutherAI/gpt-neox-20b')"
      ],
      "metadata": {
        "colab": {
          "base_uri": "https://localhost:8080/"
        },
        "id": "WZqDov_79XGk",
        "outputId": "59bd9528-2324-4d0a-c147-be024c6fdecc"
      },
      "execution_count": null,
      "outputs": [
        {
          "output_type": "stream",
          "name": "stderr",
          "text": [
            "/usr/local/lib/python3.10/dist-packages/torch/_utils.py:831: UserWarning: TypedStorage is deprecated. It will be removed in the future and UntypedStorage will be the only storage class. This should only matter to you if you are using storages directly.  To access UntypedStorage directly, use tensor.untyped_storage() instead of tensor.storage()\n",
            "  return self.fget.__get__(instance, owner)()\n",
            "Special tokens have been added in the vocabulary, make sure the associated word embeddings are fine-tuned or trained.\n"
          ]
        },
        {
          "output_type": "stream",
          "name": "stdout",
          "text": [
            "Moving model to device:  cuda\n"
          ]
        },
        {
          "output_type": "stream",
          "name": "stderr",
          "text": [
            "Special tokens have been added in the vocabulary, make sure the associated word embeddings are fine-tuned or trained.\n"
          ]
        }
      ]
    },
    {
      "cell_type": "code",
      "source": [
        "print(model.cfg)"
      ],
      "metadata": {
        "colab": {
          "base_uri": "https://localhost:8080/"
        },
        "id": "WPmp3JkDNujJ",
        "outputId": "55538c03-809c-44bb-a4f0-7962fdaa1544"
      },
      "execution_count": null,
      "outputs": [
        {
          "output_type": "stream",
          "name": "stdout",
          "text": [
            "MambaCfg(d_model=768, n_layers=24, vocab_size=50280, d_state=16, expand=2, dt_rank=48, d_conv=4, pad_vocab_size_multiple=8, conv_bias=True, bias=False, default_prepend_bos=True, tokenizer_prepends_bos=False, n_ctx=2048, device='cuda', initializer_cfg=MambaInitCfg(initializer_range=(0.02,), rescale_prenorm_residual=(True,), n_residuals_per_layer=(1,), dt_init=('random',), dt_scale=(1.0,), dt_min=(0.001,), dt_max=(0.1,), dt_init_floor=0.0001), d_inner=1536)\n"
          ]
        }
      ]
    },
    {
      "cell_type": "code",
      "source": [
        "data = load_dataset(\"NeelNanda/c4-code-20k\", split=\"train\")\n",
        "tokenized_data = tokenize_and_concatenate(data, model.tokenizer, max_length=128)\n",
        "tokenized_data = tokenized_data.shuffle(42)"
      ],
      "metadata": {
        "id": "GYUYlxtW9bB7"
      },
      "execution_count": null,
      "outputs": []
    },
    {
      "cell_type": "code",
      "source": [
        "all_tokens = tokenized_data[\"tokens\"][:cfg[\"num_tokens\"],]\n",
        "print(\"Tokens shape: \", all_tokens.shape)"
      ],
      "metadata": {
        "colab": {
          "base_uri": "https://localhost:8080/"
        },
        "id": "OOJ4oRwcMR73",
        "outputId": "30f2fc42-4643-49ed-909e-4f1565aa308e"
      },
      "execution_count": null,
      "outputs": [
        {
          "output_type": "stream",
          "name": "stdout",
          "text": [
            "Tokens shape:  torch.Size([100000, 128])\n"
          ]
        }
      ]
    },
    {
      "cell_type": "markdown",
      "source": [
        "# Finding the Sparsity:"
      ],
      "metadata": {
        "id": "mHbSr32k9ieH"
      }
    },
    {
      "cell_type": "code",
      "source": [
        "@t.no_grad()\n",
        "def get_feature_probability(\n",
        "    tokens: Int[Tensor, \"batch seq\"],\n",
        "    model: HookedMamba,\n",
        "    autoencoder: AutoEncoder,\n",
        "    activation_cache_key: str = cfg[\"act_name\"],\n",
        ") -> Float[Tensor, \"instance n_hidden_ae\"]:\n",
        "    '''\n",
        "    Returns the feature probabilities (i.e. fraction of time the feature is active) for each feature in the\n",
        "    autoencoder, averaged over all `batch * seq` tokens.\n",
        "    '''\n",
        "    batch_size, seq_len = tokens.shape\n",
        "\n",
        "    logits, cache = model.run_with_cache(tokens,\n",
        "                                          fast_ssm=True,\n",
        "                                          fast_conv=True,\n",
        "                                          warn_disabled_hooks=False,\n",
        "                                          names_filter=activation_cache_key)\n",
        "    act = cache[activation_cache_key]\n",
        "\n",
        "    del logits, cache\n",
        "    torch.cuda.empty_cache()\n",
        "    gc.collect()\n",
        "    assert act.shape == (batch_size, seq_len, model.cfg.d_model)\n",
        "\n",
        "    acts = autoencoder.forward(act)[2]\n",
        "    assert acts.shape == (batch_size, seq_len, cfg[\"dict_size\"])\n",
        "\n",
        "    return acts.mean(0)"
      ],
      "metadata": {
        "id": "JN86n_Bo9gU6"
      },
      "execution_count": null,
      "outputs": []
    },
    {
      "cell_type": "code",
      "source": [
        "print(cfg)"
      ],
      "metadata": {
        "colab": {
          "base_uri": "https://localhost:8080/"
        },
        "id": "oCjxCSWkOi0a",
        "outputId": "732c2795-1b81-4ea1-9846-077e81d0c72e"
      },
      "execution_count": null,
      "outputs": [
        {
          "output_type": "stream",
          "name": "stdout",
          "text": [
            "{'num_tokens': 100000, 'batch_size': 32, 'act_name': 'hook_norm', 'dict_size': 1536, 'l1_coeff': 0.0003, 'beta1': 0.9, 'beta2': 0.999, 'dict_mult': 32, 'seq_len': 128, 'remove_rare_dir': False, 'device': 'cuda:0', 'enc_dtype': 'fp32', 'seed': 16, 'act_size': 768, 'model_batch_size': 32, 'num_epochs': 5, 'lr': 0.001, 'l1_weight': 1e-05, 'l2_weight': 1e-05, 'log_every': 50, 'eval_every': 100, 'recons_every': 500, 'save_every': 500, 'reset_freq_threshold': 3.162277660168379e-06, 'wandb_project': 'mamba_autoencoder', 'wandb_name': None, 'encoder_hidden_sizes': [512, 256], 'decoder_hidden_sizes': [256, 512], 'latent_dim': 64}\n"
          ]
        }
      ]
    },
    {
      "cell_type": "code",
      "source": [
        "# Get a batch of feature probabilities & average them (so we don't put strain on the GPU)\n",
        "feature_probability = [\n",
        "    get_feature_probability(all_tokens[i:i+50], model, autoencoder)\n",
        "    for i in tqdm(range(0, 1000, 50))\n",
        "]\n",
        "feature_probability = sum(feature_probability) / len(feature_probability)\n",
        "\n",
        "log_freq = (feature_probability + 1e-10).log10()"
      ],
      "metadata": {
        "colab": {
          "base_uri": "https://localhost:8080/",
          "height": 49,
          "referenced_widgets": [
            "2471a9f6edb54fa2a5e86be1e5c27367",
            "68018c92abb54aaa9555ac8d4e43bac5",
            "23c7c8c7c7d04ce99a77888ba95b4de9",
            "f6510a178f9b457986e3db8dcc087ed7",
            "316ebbbf0f2f42919d1041b4ae82f8b5",
            "ad109be22c9849108535f8b0cd891c8f",
            "11b40978d3f646a7acc60d96244bc5fa",
            "3320aa3da5824d2b9c965d83633bd0ec",
            "16c7d61648a045d289c402f17ba7ed00",
            "0de36cd0865a44a688558a5ee3fc7c0d",
            "5cc5765edc164b57a36240046e29311e"
          ]
        },
        "id": "2sWU5uug9nXb",
        "outputId": "2244b3e4-80f7-4a91-d25a-4be64d1ffdd0"
      },
      "execution_count": null,
      "outputs": [
        {
          "output_type": "display_data",
          "data": {
            "text/plain": [
              "  0%|          | 0/20 [00:00<?, ?it/s]"
            ],
            "application/vnd.jupyter.widget-view+json": {
              "version_major": 2,
              "version_minor": 0,
              "model_id": "2471a9f6edb54fa2a5e86be1e5c27367"
            }
          },
          "metadata": {}
        }
      ]
    },
    {
      "cell_type": "code",
      "source": [
        "plt.style.use('ggplot')\n",
        "\n",
        "fig, ax = plt.subplots(figsize=(10, 6))\n",
        "\n",
        "for i, lf in enumerate(log_freq):\n",
        "    # Move the tensor to CPU and convert to NumPy array\n",
        "    lf_np = lf.cpu().numpy()\n",
        "\n",
        "    ax.hist(\n",
        "        lf_np,\n",
        "        density=True,\n",
        "        alpha=0.7,\n",
        "        #label=f\"Instance {i+1}\"\n",
        "    )\n",
        "\n",
        "ax.set_xlabel(\"log$_{10}$(freq)\")\n",
        "ax.set_ylabel(\"Density\")\n",
        "ax.set_title(\"Log Frequency of Features\")\n",
        "ax.legend()\n",
        "\n",
        "plt.tight_layout()\n",
        "plt.show()"
      ],
      "metadata": {
        "colab": {
          "base_uri": "https://localhost:8080/",
          "height": 642
        },
        "id": "jHT6a64X9p3j",
        "outputId": "57e78d7b-0294-4fb5-91cd-d93a2d840809"
      },
      "execution_count": null,
      "outputs": [
        {
          "output_type": "stream",
          "name": "stderr",
          "text": [
            "<ipython-input-13-25291cef2950>:19: UserWarning: No artists with labels found to put in legend.  Note that artists whose label start with an underscore are ignored when legend() is called with no argument.\n",
            "  ax.legend()\n"
          ]
        },
        {
          "output_type": "display_data",
          "data": {
            "text/plain": [
              "<Figure size 1000x600 with 1 Axes>"
            ],
            "image/png": "[encoded data removed]"
          },
          "metadata": {}
        }
      ]
    },
    {
      "cell_type": "markdown",
      "source": [
        "We can see that the features is _kind of_ bimodal. Similar to the Transformer 1-L inverstigations, there is a clear mode containing most of the important features."
      ],
      "metadata": {
        "id": "ksXPN8OQ9tQ8"
      }
    },
    {
      "cell_type": "code",
      "source": [
        "import matplotlib.pyplot as plt\n",
        "import seaborn as sns\n",
        "# Get all the rare features\n",
        "is_rare = feature_probability[0] < 1e-4\n",
        "rare_encoder_directions = autoencoder.W_enc[:, is_rare]\n",
        "rare_encoder_directions_normalized = rare_encoder_directions / rare_encoder_directions.norm(dim=0, keepdim=True)\n",
        "\n",
        "# Compute their pairwise cosine similarities & sample randomly from this N*N matrix of similarities\n",
        "cos_sims_rare = (rare_encoder_directions_normalized.T @ rare_encoder_directions_normalized).flatten()\n",
        "cos_sims_rare_random_sample = cos_sims_rare[t.randint(0, cos_sims_rare.shape[0], (10000,))]\n",
        "\n",
        "\n",
        "# Create the histogram\n",
        "cos_sims_numpy = cos_sims_rare_random_sample.detach().cpu().numpy()\n",
        "\n",
        "# Create the main figure and axis\n",
        "fig, (ax_box, ax_hist) = plt.subplots(2, figsize=(10, 8),\n",
        "                                      gridspec_kw={\"height_ratios\": (0.15, 0.85)})\n",
        "fig.suptitle(\"Cosine similarities of random rare encoder directions with each other\",\n",
        "             fontsize=16)\n",
        "\n",
        "# Create the histogram\n",
        "sns.histplot(cos_sims_numpy, ax=ax_hist, kde=True, stat=\"percent\",\n",
        "             edgecolor='black', alpha=0.7)\n",
        "ax_hist.set_xlabel(\"Cosine sim\")\n",
        "ax_hist.set_ylabel(\"Percent\")\n",
        "\n",
        "# Create the box plot\n",
        "sns.boxplot(x=cos_sims_numpy, ax=ax_box, orient=\"h\")\n",
        "ax_box.set(xlabel='')  # Remove x-label from box plot\n",
        "ax_box.set(yticks=[])  # Remove y-ticks from box plot\n",
        "\n",
        "# Adjust the layout and display the plot\n",
        "plt.tight_layout()\n",
        "plt.show()"
      ],
      "metadata": {
        "colab": {
          "base_uri": "https://localhost:8080/",
          "height": 805
        },
        "id": "-ac6T84j9tlb",
        "outputId": "c3f48793-6af7-483d-eb84-efe53d5a02be"
      },
      "execution_count": null,
      "outputs": [
        {
          "output_type": "display_data",
          "data": {
            "text/plain": [
              "<Figure size 1000x800 with 2 Axes>"
            ],
            "image/png": "[encoded data removed]"
          },
          "metadata": {}
        }
      ]
    },
    {
      "cell_type": "markdown",
      "source": [
        "The plot shows a roughly normal (Gaussian) distribution centered around 0.2.\n",
        "The peak of the distribution is at approximately 0.2. This suggests that, on average, the random rare encoder directions have a slight positive correlation with each other.\n",
        "\n",
        "The fact that the average cosine similarity is around 0.2 suggests that these \"random\" rare encoder directions are not perfectly orthogonal to each other. They have a slight tendency to point in similar directions. Despite the slight positive correlation, most encoder directions are still quite distinct from each other, as evidenced by the relatively low cosine similarities. The outliers near 1.0 suggest that occasionally, some rare encoder directions align very closely with others which is quite interesting."
      ],
      "metadata": {
        "id": "Y364Zg2LR5hZ"
      }
    },
    {
      "cell_type": "markdown",
      "source": [
        "# find the reconstruction loss"
      ],
      "metadata": {
        "id": "qbEdyRYs9yTc"
      }
    },
    {
      "cell_type": "code",
      "source": [
        "@t.no_grad()\n",
        "def replacement_hook(pre_linear, hook, encoder):\n",
        "    pre_linear_reconstr = encoder(pre_linear)[1]\n",
        "    return pre_linear_reconstr\n",
        "\n",
        "def mean_ablate_hook(pre_linear, hook):\n",
        "    pre_linear[:] = pre_linear.mean([0, 1])\n",
        "    return pre_linear\n",
        "\n",
        "def zero_ablate_hook(pre_linear, hook):\n",
        "    pre_linear[:] = 0.\n",
        "    return pre_linear\n",
        "\n",
        "@torch.no_grad()\n",
        "def get_reconstruction_loss(num_batches=5, local_encoder=None):\n",
        "    if local_encoder is None:\n",
        "        local_encoder = autoencoder\n",
        "    loss_list = []\n",
        "    for i in range(num_batches):\n",
        "        tokens = all_tokens[t.randperm(len(all_tokens))[:cfg[\"model_batch_size\"]]]\n",
        "        loss = model(tokens, return_type=\"loss\")\n",
        "        recons_loss = model.run_with_hooks(tokens, return_type=\"loss\",\n",
        "                                           fast_ssm=True,\n",
        "                                           fast_conv=True,\n",
        "                                           fwd_hooks=[(cfg[\"act_name\"], partial(replacement_hook, encoder=local_encoder))])\n",
        "        # mean_abl_loss = model.run_with_hooks(tokens, return_type=\"loss\", fwd_hooks=[(cfg[\"act_name\"], mean_ablate_hook)])\n",
        "        zero_abl_loss = model.run_with_hooks(tokens, return_type=\"loss\",\n",
        "                                             fast_ssm=True,\n",
        "                                             fast_conv=True,\n",
        "                                             fwd_hooks=[(cfg[\"act_name\"], zero_ablate_hook)])\n",
        "        loss_list.append((loss, recons_loss, zero_abl_loss))\n",
        "    losses = t.tensor(loss_list)\n",
        "    loss, recons_loss, zero_abl_loss = losses.mean(0).tolist()\n",
        "\n",
        "    print(loss, recons_loss, zero_abl_loss)\n",
        "    score = ((zero_abl_loss - recons_loss)/(zero_abl_loss - loss))\n",
        "    print(f\"{score:.2%}\")\n",
        "    # print(f\"{((zero_abl_loss - mean_abl_loss)/(zero_abl_loss - loss)).item():.2%}\")\n",
        "    return score, loss, recons_loss, zero_abl_loss\n",
        "\n",
        "\n",
        "reconstruction_loss = get_reconstruction_loss(local_encoder=autoencoder)\n",
        "print(reconstruction_loss)"
      ],
      "metadata": {
        "colab": {
          "base_uri": "https://localhost:8080/"
        },
        "id": "qQYKhC7b9u3s",
        "outputId": "5da0eac1-ad7b-4ad4-e788-03e8b10668f3"
      },
      "execution_count": null,
      "outputs": [
        {
          "output_type": "stream",
          "name": "stdout",
          "text": [
            "2.652313470840454 7.819022178649902 10.825362205505371\n",
            "36.78%\n",
            "(0.3678358131041689, 2.652313470840454, 7.819022178649902, 10.825362205505371)\n"
          ]
        }
      ]
    },
    {
      "cell_type": "markdown",
      "source": [
        "# Interpreting individual features"
      ],
      "metadata": {
        "id": "2MDsnj_l-Ghg"
      }
    },
    {
      "cell_type": "code",
      "source": [
        "import torch as t\n",
        "from torch import Tensor\n",
        "from typing import Tuple, List\n",
        "from rich import print as rprint\n",
        "from rich.table import Table\n",
        "\n",
        "@t.inference_mode()\n",
        "def highest_activating_tokens(\n",
        "    tokens: t.Tensor,\n",
        "    model: HookedMamba,\n",
        "    autoencoder: AutoEncoder,\n",
        "    feature_idx: int,\n",
        "    k: int = 10,\n",
        "    activation_cache_key: str = cfg[\"act_name\"]\n",
        ") -> Tuple[t.Tensor, t.Tensor]:\n",
        "    '''\n",
        "    Returns the indices & values for the highest-activating tokens in the given batch of data.\n",
        "    '''\n",
        "    batch_size, seq_len = tokens.shape\n",
        "\n",
        "    # Get the post activations from the clean run\n",
        "    logits, cache = model.run_with_cache(tokens,\n",
        "                                         fast_ssm=True,\n",
        "                                         fast_conv=True,\n",
        "                                         warn_disabled_hooks=False,\n",
        "                                         names_filter=activation_cache_key)\n",
        "    act = cache[activation_cache_key]\n",
        "\n",
        "    del logits, cache\n",
        "    torch.cuda.empty_cache()\n",
        "    gc.collect()\n",
        "\n",
        "\n",
        "\n",
        "    # Compute activations\n",
        "    x_acts = autoencoder.forward(act)[2]\n",
        "    acts = x_acts[:, :, feature_idx]\n",
        "\n",
        "    # Get the top k largest activations\n",
        "    top_acts_values, top_acts_indices = acts.reshape(-1).topk(k)\n",
        "\n",
        "    # Convert the indices into (batch, seq) indices\n",
        "    top_acts_batch = top_acts_indices // seq_len\n",
        "    top_acts_seq = top_acts_indices % seq_len\n",
        "\n",
        "    return t.stack([top_acts_batch, top_acts_seq], dim=1), top_acts_values\n",
        "\n",
        "def display_top_sequences(top_acts_indices: t.Tensor, top_acts_values: t.Tensor, tokens: t.Tensor, model: HookedMamba):\n",
        "    table = Table(\"Sequence\", \"Activation\", title=\"Tokens which most activate this feature\")\n",
        "\n",
        "    for (batch_idx, seq_idx), value in zip(top_acts_indices.tolist(), top_acts_values.tolist()):\n",
        "        # Get the sequence as a string (with some padding on either side of our sequence)\n",
        "        seq = \"\"\n",
        "        for i in range(max(seq_idx-5, 0), min(seq_idx+5, tokens.shape[1])):\n",
        "            new_str_token = model.to_single_str_token(tokens[batch_idx, i].item()).replace(\"\\n\", \"\\\\n\")\n",
        "            # Highlight the token with the high activation\n",
        "            if i == seq_idx:\n",
        "                new_str_token = f\"[b u dark_orange]{new_str_token}[/]\"\n",
        "            seq += new_str_token\n",
        "        # Add the sequence and activation value to the table\n",
        "        table.add_row(seq, f'{value:.2f}')\n",
        "\n",
        "    rprint(table)\n",
        "\n",
        "# Usage\n",
        "def analyze_multiple_features(\n",
        "    tokens: t.Tensor,\n",
        "    model: HookedMamba,\n",
        "    autoencoder: AutoEncoder,\n",
        "    feature_idx_start: int = 0,\n",
        "    feature_idx_end: int = model.cfg.d_model,\n",
        "    num_features: int = 500,\n",
        "    k: int = 10,\n",
        "    activation_cache_key: str = cfg[\"act_name\"]\n",
        "):\n",
        "    for feature_idx in range(feature_idx_start, feature_idx_end, num_features):\n",
        "        print(f\"\\nAnalyzing feature {feature_idx}:\")\n",
        "        top_acts_indices, top_acts_values = highest_activating_tokens(tokens, model, autoencoder, feature_idx, k, activation_cache_key)\n",
        "        display_top_sequences(top_acts_indices, top_acts_values, tokens, model)\n",
        "\n",
        "# Usage\n",
        "tokens = all_tokens[:200]\n",
        "analyze_multiple_features(tokens, model, autoencoder)"
      ],
      "metadata": {
        "colab": {
          "base_uri": "https://localhost:8080/",
          "height": 566
        },
        "id": "tGHYl2Un-FKW",
        "outputId": "ddea1ff1-4c34-41bb-9514-6bf497e70b5e"
      },
      "execution_count": null,
      "outputs": [
        {
          "output_type": "stream",
          "name": "stdout",
          "text": [
            "\n",
            "Analyzing feature 0:\n"
          ]
        },
        {
          "output_type": "display_data",
          "data": {
            "text/plain": [
              "\u001b[3m                   Tokens which most activate this feature                    \u001b[0m\n",
              "┏━━━━━━━━━━━━━━━━━━━━━━━━━━━━━━━━━━━━━━━━━━━━━━━━━━━━━━━━━━━━━━━┳━━━━━━━━━━━━┓\n",
              "┃\u001b[1m \u001b[0m\u001b[1mSequence                                                     \u001b[0m\u001b[1m \u001b[0m┃\u001b[1m \u001b[0m\u001b[1mActivation\u001b[0m\u001b[1m \u001b[0m┃\n",
              "┡━━━━━━━━━━━━━━━━━━━━━━━━━━━━━━━━━━━━━━━━━━━━━━━━━━━━━━━━━━━━━━━╇━━━━━━━━━━━━┩\n",
              "│ ,\\n# WITHOUT WARRANTIES\u001b[1;4;38;5;208m OR\u001b[0m CONDITIONS OF ANY KIND             │ 3.91       │\n",
              "│ ,\\n# WITHOUT WARRANTIES\u001b[1;4;38;5;208m OR\u001b[0m CONDITIONS OF ANY KIND             │ 3.74       │\n",
              "│ # WITHOUT WARRANTIES OR CONDITIONS\u001b[1;4;38;5;208m OF\u001b[0m ANY KIND, either        │ 2.61       │\n",
              "│  of\\n# MERCHANTABILITY or\u001b[1;4;38;5;208m FITNESS\u001b[0m FOR A PARTICULAR PURPOSE    │ 2.17       │\n",
              "│ # WITHOUT WARRANTIES OR CONDITIONS\u001b[1;4;38;5;208m OF\u001b[0m ANY KIND, either        │ 2.06       │\n",
              "│ future__ import unicode_\u001b[1;4;38;5;208mliter\u001b[0mals, print_                      │ 1.80       │\n",
              "│  WITHOUT WARRANTIES OR CONDITIONS OF\u001b[1;4;38;5;208m ANY\u001b[0m KIND, either express │ 1.67       │\n",
              "│  Collins shatters this\u001b[1;4;38;5;208m myth\u001b[0m, demonstrating that no            │ 1.36       │\n",
              "│  WITHOUT WARRANTIES OR CONDITIONS OF\u001b[1;4;38;5;208m ANY\u001b[0m KIND, either express │ 1.25       │\n",
              "│ # MERCHANTABILITY or FITNESS FOR\u001b[1;4;38;5;208m A\u001b[0m PARTICULAR PURPOSE.        │ 1.25       │\n",
              "└───────────────────────────────────────────────────────────────┴────────────┘\n"
            ],
            "text/html": [
              "<pre style=\"white-space:pre;overflow-x:auto;line-height:normal;font-family:Menlo,'DejaVu Sans Mono',consolas,'Courier New',monospace\"><span style=\"font-style: italic\">                   Tokens which most activate this feature                    </span>\n",
              "┏━━━━━━━━━━━━━━━━━━━━━━━━━━━━━━━━━━━━━━━━━━━━━━━━━━━━━━━━━━━━━━━┳━━━━━━━━━━━━┓\n",
              "┃<span style=\"font-weight: bold\"> Sequence                                                      </span>┃<span style=\"font-weight: bold\"> Activation </span>┃\n",
              "┡━━━━━━━━━━━━━━━━━━━━━━━━━━━━━━━━━━━━━━━━━━━━━━━━━━━━━━━━━━━━━━━╇━━━━━━━━━━━━┩\n",
              "│ ,\\n# WITHOUT WARRANTIES<span style=\"color: #ff8700; text-decoration-color: #ff8700; font-weight: bold; text-decoration: underline\"> OR</span> CONDITIONS OF ANY KIND             │ 3.91       │\n",
              "│ ,\\n# WITHOUT WARRANTIES<span style=\"color: #ff8700; text-decoration-color: #ff8700; font-weight: bold; text-decoration: underline\"> OR</span> CONDITIONS OF ANY KIND             │ 3.74       │\n",
              "│ # WITHOUT WARRANTIES OR CONDITIONS<span style=\"color: #ff8700; text-decoration-color: #ff8700; font-weight: bold; text-decoration: underline\"> OF</span> ANY KIND, either        │ 2.61       │\n",
              "│  of\\n# MERCHANTABILITY or<span style=\"color: #ff8700; text-decoration-color: #ff8700; font-weight: bold; text-decoration: underline\"> FITNESS</span> FOR A PARTICULAR PURPOSE    │ 2.17       │\n",
              "│ # WITHOUT WARRANTIES OR CONDITIONS<span style=\"color: #ff8700; text-decoration-color: #ff8700; font-weight: bold; text-decoration: underline\"> OF</span> ANY KIND, either        │ 2.06       │\n",
              "│ future__ import unicode_<span style=\"color: #ff8700; text-decoration-color: #ff8700; font-weight: bold; text-decoration: underline\">liter</span>als, print_                      │ 1.80       │\n",
              "│  WITHOUT WARRANTIES OR CONDITIONS OF<span style=\"color: #ff8700; text-decoration-color: #ff8700; font-weight: bold; text-decoration: underline\"> ANY</span> KIND, either express │ 1.67       │\n",
              "│  Collins shatters this<span style=\"color: #ff8700; text-decoration-color: #ff8700; font-weight: bold; text-decoration: underline\"> myth</span>, demonstrating that no            │ 1.36       │\n",
              "│  WITHOUT WARRANTIES OR CONDITIONS OF<span style=\"color: #ff8700; text-decoration-color: #ff8700; font-weight: bold; text-decoration: underline\"> ANY</span> KIND, either express │ 1.25       │\n",
              "│ # MERCHANTABILITY or FITNESS FOR<span style=\"color: #ff8700; text-decoration-color: #ff8700; font-weight: bold; text-decoration: underline\"> A</span> PARTICULAR PURPOSE.        │ 1.25       │\n",
              "└───────────────────────────────────────────────────────────────┴────────────┘\n",
              "</pre>\n"
            ]
          },
          "metadata": {}
        },
        {
          "output_type": "stream",
          "name": "stdout",
          "text": [
            "\n",
            "Analyzing feature 500:\n"
          ]
        },
        {
          "output_type": "display_data",
          "data": {
            "text/plain": [
              "\u001b[3m         Tokens which most activate this feature         \u001b[0m\n",
              "┏━━━━━━━━━━━━━━━━━━━━━━━━━━━━━━━━━━━━━━━━━━┳━━━━━━━━━━━━┓\n",
              "┃\u001b[1m \u001b[0m\u001b[1mSequence                                \u001b[0m\u001b[1m \u001b[0m┃\u001b[1m \u001b[0m\u001b[1mActivation\u001b[0m\u001b[1m \u001b[0m┃\n",
              "┡━━━━━━━━━━━━━━━━━━━━━━━━━━━━━━━━━━━━━━━━━━╇━━━━━━━━━━━━┩\n",
              "│ get('HTTP_API\u001b[1;4;38;5;208m_\u001b[0mKEY', '')\\n                │ 3.33       │\n",
              "│ _type = CONTENT\u001b[1;4;38;5;208m_\u001b[0mTYPE_APPLICATION         │ 2.98       │\n",
              "│ ACCOUNT_EMAIL\u001b[1;4;38;5;208m_\u001b[0mVERIFICATION =             │ 2.92       │\n",
              "│ CONNECTION_NOT_\u001b[1;4;38;5;208mEX\u001b[0mISTS,\\n                 │ 2.86       │\n",
              "│ \\nOBJECT_INFORMATION\u001b[1;4;38;5;208m_\u001b[0mCLASS.MaxObject     │ 2.82       │\n",
              "│  provide your own!\\n\u001b[1;4;38;5;208mRE\u001b[0mCEIVER = '         │ 2.81       │\n",
              "│  '...'\\nSMTP\u001b[1;4;38;5;208m_\u001b[0mUSERNAME = '                │ 2.76       │\n",
              "│ \\nOBJECT_INFORMATION\u001b[1;4;38;5;208m_\u001b[0mCLASS.ObjectHandle  │ 2.76       │\n",
              "│ A.get('HTTP\u001b[1;4;38;5;208m_\u001b[0mAPI_KEY',                    │ 2.74       │\n",
              "│ ': 'models.SET\u001b[1;4;38;5;208m_\u001b[0mNULL', 'blank             │ 2.69       │\n",
              "└──────────────────────────────────────────┴────────────┘\n"
            ],
            "text/html": [
              "<pre style=\"white-space:pre;overflow-x:auto;line-height:normal;font-family:Menlo,'DejaVu Sans Mono',consolas,'Courier New',monospace\"><span style=\"font-style: italic\">         Tokens which most activate this feature         </span>\n",
              "┏━━━━━━━━━━━━━━━━━━━━━━━━━━━━━━━━━━━━━━━━━━┳━━━━━━━━━━━━┓\n",
              "┃<span style=\"font-weight: bold\"> Sequence                                 </span>┃<span style=\"font-weight: bold\"> Activation </span>┃\n",
              "┡━━━━━━━━━━━━━━━━━━━━━━━━━━━━━━━━━━━━━━━━━━╇━━━━━━━━━━━━┩\n",
              "│ get('HTTP_API<span style=\"color: #ff8700; text-decoration-color: #ff8700; font-weight: bold; text-decoration: underline\">_</span>KEY', '')\\n                │ 3.33       │\n",
              "│ _type = CONTENT<span style=\"color: #ff8700; text-decoration-color: #ff8700; font-weight: bold; text-decoration: underline\">_</span>TYPE_APPLICATION         │ 2.98       │\n",
              "│ ACCOUNT_EMAIL<span style=\"color: #ff8700; text-decoration-color: #ff8700; font-weight: bold; text-decoration: underline\">_</span>VERIFICATION =             │ 2.92       │\n",
              "│ CONNECTION_NOT_<span style=\"color: #ff8700; text-decoration-color: #ff8700; font-weight: bold; text-decoration: underline\">EX</span>ISTS,\\n                 │ 2.86       │\n",
              "│ \\nOBJECT_INFORMATION<span style=\"color: #ff8700; text-decoration-color: #ff8700; font-weight: bold; text-decoration: underline\">_</span>CLASS.MaxObject     │ 2.82       │\n",
              "│  provide your own!\\n<span style=\"color: #ff8700; text-decoration-color: #ff8700; font-weight: bold; text-decoration: underline\">RE</span>CEIVER = '         │ 2.81       │\n",
              "│  '...'\\nSMTP<span style=\"color: #ff8700; text-decoration-color: #ff8700; font-weight: bold; text-decoration: underline\">_</span>USERNAME = '                │ 2.76       │\n",
              "│ \\nOBJECT_INFORMATION<span style=\"color: #ff8700; text-decoration-color: #ff8700; font-weight: bold; text-decoration: underline\">_</span>CLASS.ObjectHandle  │ 2.76       │\n",
              "│ A.get('HTTP<span style=\"color: #ff8700; text-decoration-color: #ff8700; font-weight: bold; text-decoration: underline\">_</span>API_KEY',                    │ 2.74       │\n",
              "│ ': 'models.SET<span style=\"color: #ff8700; text-decoration-color: #ff8700; font-weight: bold; text-decoration: underline\">_</span>NULL', 'blank             │ 2.69       │\n",
              "└──────────────────────────────────────────┴────────────┘\n",
              "</pre>\n"
            ]
          },
          "metadata": {}
        }
      ]
    },
    {
      "cell_type": "markdown",
      "source": [
        "# find a feature's logit effect"
      ],
      "metadata": {
        "id": "makGpd-Phb35"
      }
    },
    {
      "cell_type": "code",
      "source": [
        "import torch as t\n",
        "from torch import Tensor\n",
        "from typing import Tuple, List\n",
        "from rich import print as rprint\n",
        "from rich.table import Table\n",
        "\n",
        "@t.no_grad()\n",
        "def get_feature_probability(\n",
        "    tokens: t.Tensor,\n",
        "    model: HookedMamba,\n",
        "    autoencoder: AutoEncoder,\n",
        "    activation_cache_key: str = cfg[\"act_name\"],\n",
        ") -> t.Tensor:\n",
        "    '''\n",
        "    Returns the feature probabilities (i.e. fraction of time the feature is active) for each feature in the\n",
        "    autoencoder, averaged over all `batch * seq` tokens.\n",
        "    '''\n",
        "    batch_size, seq_len = tokens.shape\n",
        "\n",
        "    logits, cache = model.run_with_cache(tokens,\n",
        "                                         fast_ssm=True,\n",
        "                                         fast_conv=True,\n",
        "                                         warn_disabled_hooks=False,\n",
        "                                         names_filter=activation_cache_key)\n",
        "    act = cache[activation_cache_key]\n",
        "    assert act.shape == (batch_size, seq_len, model.cfg.d_model)\n",
        "\n",
        "    acts = autoencoder.forward(act)[2]\n",
        "    assert acts.shape == (batch_size, seq_len, cfg[\"dict_size\"])\n",
        "\n",
        "    return acts.mean([0, 1])  # Average over both batch and sequence dimensions\n",
        "\n",
        "def get_highest_probability_features(\n",
        "    tokens: t.Tensor,\n",
        "    model: HookedMamba,\n",
        "    autoencoder: AutoEncoder,\n",
        "    k: int = 10,\n",
        "    activation_cache_key: str = cfg[\"act_name\"],\n",
        ") -> Tuple[t.Tensor, t.Tensor]:\n",
        "    '''\n",
        "    Returns the indices and probabilities of the k features with the highest activation probability.\n",
        "    '''\n",
        "    feature_probs = get_feature_probability(tokens, model, autoencoder, activation_cache_key)\n",
        "    #print(feature_probs.shape)\n",
        "    top_probs, top_indices = feature_probs.topk(k)\n",
        "    return top_indices, top_probs\n",
        "\n",
        "def display_top_features(top_indices: t.Tensor, top_probs: t.Tensor):\n",
        "    table = Table(\"Feature Index\", \"Activation Probability\", title=\"Features with Highest Activation Probability\")\n",
        "    for idx, prob in zip(top_indices.tolist(), top_probs.tolist()):\n",
        "        table.add_row(str(idx), f'{prob:.4f}')\n",
        "    rprint(table)\n",
        "\n",
        "def get_logit_effect(feature_idx: int):\n",
        "    #print(autoencoder.W_dec.shape)\n",
        "    W_dec_vector = autoencoder.W_dec[feature_idx,:]\n",
        "    #print(W_dec_vector.shape)\n",
        "\n",
        "    W_dec_logits = W_dec_vector @ model.lm_head.weight.T\n",
        "\n",
        "    top_tokens = W_dec_logits.topk(10)\n",
        "    bottom_tokens = W_dec_logits.topk(10, largest=False)\n",
        "\n",
        "    s = \"Top tokens:\\n\"\n",
        "    for token, value in zip(top_tokens.indices, top_tokens.values):\n",
        "        s += f\"({value:.2f}) {model.to_single_str_token(token.item())}\\n\"\n",
        "    s += \"\\nBottom tokens:\\n\"\n",
        "    for token, value in zip(bottom_tokens.indices, bottom_tokens.values):\n",
        "        s += f\"({value:.2f}) {model.to_single_str_token(token.item())}\\n\"\n",
        "    rprint(s)\n",
        "\n",
        "# Usage\n",
        "tokens = all_tokens[:200]  # Adjust this to your desired batch size\n",
        "top_indices, top_probs = get_highest_probability_features(tokens, model, autoencoder)\n",
        "display_top_features(top_indices, top_probs)\n",
        "\n",
        "# If you want to analyze these high-probability features\n",
        "for feature_idx in top_indices.tolist():\n",
        "    print(f\"\\nAnalyzing high-probability feature {feature_idx}:\")\n",
        "    top_acts_indices, top_acts_values = highest_activating_tokens(tokens, model, autoencoder, feature_idx)\n",
        "    display_top_sequences(top_acts_indices, top_acts_values, tokens, model)\n",
        "    get_logit_effect(feature_idx)"
      ],
      "metadata": {
        "colab": {
          "base_uri": "https://localhost:8080/",
          "height": 1000
        },
        "id": "nS1hbasFeCzn",
        "outputId": "fa7565ff-0297-4038-8ca0-75523c8cba56"
      },
      "execution_count": null,
      "outputs": [
        {
          "output_type": "display_data",
          "data": {
            "text/plain": [
              "\u001b[3m     Features with Highest Activation     \u001b[0m\n",
              "\u001b[3m               Probability                \u001b[0m\n",
              "┏━━━━━━━━━━━━━━━┳━━━━━━━━━━━━━━━━━━━━━━━━┓\n",
              "┃\u001b[1m \u001b[0m\u001b[1mFeature Index\u001b[0m\u001b[1m \u001b[0m┃\u001b[1m \u001b[0m\u001b[1mActivation Probability\u001b[0m\u001b[1m \u001b[0m┃\n",
              "┡━━━━━━━━━━━━━━━╇━━━━━━━━━━━━━━━━━━━━━━━━┩\n",
              "│ 1376          │ 9.5582                 │\n",
              "│ 1054          │ 9.4932                 │\n",
              "│ 1305          │ 6.3509                 │\n",
              "│ 1013          │ 5.6698                 │\n",
              "│ 884           │ 5.5407                 │\n",
              "│ 1017          │ 5.1247                 │\n",
              "│ 47            │ 4.8293                 │\n",
              "│ 90            │ 4.0147                 │\n",
              "│ 1253          │ 3.9632                 │\n",
              "│ 929           │ 3.8601                 │\n",
              "└───────────────┴────────────────────────┘\n"
            ],
            "text/html": [
              "<pre style=\"white-space:pre;overflow-x:auto;line-height:normal;font-family:Menlo,'DejaVu Sans Mono',consolas,'Courier New',monospace\"><span style=\"font-style: italic\">     Features with Highest Activation     </span>\n",
              "<span style=\"font-style: italic\">               Probability                </span>\n",
              "┏━━━━━━━━━━━━━━━┳━━━━━━━━━━━━━━━━━━━━━━━━┓\n",
              "┃<span style=\"font-weight: bold\"> Feature Index </span>┃<span style=\"font-weight: bold\"> Activation Probability </span>┃\n",
              "┡━━━━━━━━━━━━━━━╇━━━━━━━━━━━━━━━━━━━━━━━━┩\n",
              "│ 1376          │ 9.5582                 │\n",
              "│ 1054          │ 9.4932                 │\n",
              "│ 1305          │ 6.3509                 │\n",
              "│ 1013          │ 5.6698                 │\n",
              "│ 884           │ 5.5407                 │\n",
              "│ 1017          │ 5.1247                 │\n",
              "│ 47            │ 4.8293                 │\n",
              "│ 90            │ 4.0147                 │\n",
              "│ 1253          │ 3.9632                 │\n",
              "│ 929           │ 3.8601                 │\n",
              "└───────────────┴────────────────────────┘\n",
              "</pre>\n"
            ]
          },
          "metadata": {}
        },
        {
          "output_type": "stream",
          "name": "stdout",
          "text": [
            "\n",
            "Analyzing high-probability feature 1376:\n"
          ]
        },
        {
          "output_type": "display_data",
          "data": {
            "text/plain": [
              "\u001b[3m             Tokens which most activate this feature             \u001b[0m\n",
              "┏━━━━━━━━━━━━━━━━━━━━━━━━━━━━━━━━━━━━━━━━━━━━━━━━━━┳━━━━━━━━━━━━┓\n",
              "┃\u001b[1m \u001b[0m\u001b[1mSequence                                        \u001b[0m\u001b[1m \u001b[0m┃\u001b[1m \u001b[0m\u001b[1mActivation\u001b[0m\u001b[1m \u001b[0m┃\n",
              "┡━━━━━━━━━━━━━━━━━━━━━━━━━━━━━━━━━━━━━━━━━━━━━━━━━━╇━━━━━━━━━━━━┩\n",
              "│ type == \"steady\u001b[1;4;38;5;208m-\u001b[0mstate\": \\n\\n                     │ 36.93      │\n",
              "│  to deal with technology and\u001b[1;4;38;5;208m (\u001b[0mhere’s the         │ 36.75      │\n",
              "│ noRNA']-neg\u001b[1;4;38;5;208m_\u001b[0mdata['Start_                         │ 36.31      │\n",
              "│ ['frac']=neg\u001b[1;4;38;5;208m_\u001b[0mdata['diff']                        │ 36.06      │\n",
              "│ ['diff']/(neg\u001b[1;4;38;5;208m_\u001b[0mdata['Stop_                        │ 35.40      │\n",
              "│  with a GAS he\u001b[1;4;38;5;208m/\u001b[0mshe belongs to\\n                  │ 35.08      │\n",
              "│  estimate (for a steady\u001b[1;4;38;5;208m-\u001b[0mstate simulation only).\" │ 34.70      │\n",
              "│ .keras.io\u001b[1;4;38;5;208m/\u001b[0mbuilding-autoenc                       │ 34.04      │\n",
              "│ \\n\\n    def __init\u001b[1;4;38;5;208m__(\u001b[0mself, alpha=                │ 33.65      │\n",
              "│ np.abs(pos\u001b[1;4;38;5;208m_\u001b[0mdata['Start_                          │ 33.37      │\n",
              "└──────────────────────────────────────────────────┴────────────┘\n"
            ],
            "text/html": [
              "<pre style=\"white-space:pre;overflow-x:auto;line-height:normal;font-family:Menlo,'DejaVu Sans Mono',consolas,'Courier New',monospace\"><span style=\"font-style: italic\">             Tokens which most activate this feature             </span>\n",
              "┏━━━━━━━━━━━━━━━━━━━━━━━━━━━━━━━━━━━━━━━━━━━━━━━━━━┳━━━━━━━━━━━━┓\n",
              "┃<span style=\"font-weight: bold\"> Sequence                                         </span>┃<span style=\"font-weight: bold\"> Activation </span>┃\n",
              "┡━━━━━━━━━━━━━━━━━━━━━━━━━━━━━━━━━━━━━━━━━━━━━━━━━━╇━━━━━━━━━━━━┩\n",
              "│ type == \"steady<span style=\"color: #ff8700; text-decoration-color: #ff8700; font-weight: bold; text-decoration: underline\">-</span>state\": \\n\\n                     │ 36.93      │\n",
              "│  to deal with technology and<span style=\"color: #ff8700; text-decoration-color: #ff8700; font-weight: bold; text-decoration: underline\"> (</span>here’s the         │ 36.75      │\n",
              "│ noRNA']-neg<span style=\"color: #ff8700; text-decoration-color: #ff8700; font-weight: bold; text-decoration: underline\">_</span>data['Start_                         │ 36.31      │\n",
              "│ ['frac']=neg<span style=\"color: #ff8700; text-decoration-color: #ff8700; font-weight: bold; text-decoration: underline\">_</span>data['diff']                        │ 36.06      │\n",
              "│ ['diff']/(neg<span style=\"color: #ff8700; text-decoration-color: #ff8700; font-weight: bold; text-decoration: underline\">_</span>data['Stop_                        │ 35.40      │\n",
              "│  with a GAS he<span style=\"color: #ff8700; text-decoration-color: #ff8700; font-weight: bold; text-decoration: underline\">/</span>she belongs to\\n                  │ 35.08      │\n",
              "│  estimate (for a steady<span style=\"color: #ff8700; text-decoration-color: #ff8700; font-weight: bold; text-decoration: underline\">-</span>state simulation only).\" │ 34.70      │\n",
              "│ .keras.io<span style=\"color: #ff8700; text-decoration-color: #ff8700; font-weight: bold; text-decoration: underline\">/</span>building-autoenc                       │ 34.04      │\n",
              "│ \\n\\n    def __init<span style=\"color: #ff8700; text-decoration-color: #ff8700; font-weight: bold; text-decoration: underline\">__(</span>self, alpha=                │ 33.65      │\n",
              "│ np.abs(pos<span style=\"color: #ff8700; text-decoration-color: #ff8700; font-weight: bold; text-decoration: underline\">_</span>data['Start_                          │ 33.37      │\n",
              "└──────────────────────────────────────────────────┴────────────┘\n",
              "</pre>\n"
            ]
          },
          "metadata": {}
        },
        {
          "output_type": "display_data",
          "data": {
            "text/plain": [
              "Top tokens:\n",
              "\u001b[1m(\u001b[0m\u001b[1;36m0.78\u001b[0m\u001b[1m)\u001b[0m international\n",
              "\u001b[1m(\u001b[0m\u001b[1;36m0.78\u001b[0m\u001b[1m)\u001b[0m football\n",
              "\u001b[1m(\u001b[0m\u001b[1;36m0.77\u001b[0m\u001b[1m)\u001b[0m the\n",
              "\u001b[1m(\u001b[0m\u001b[1;36m0.77\u001b[0m\u001b[1m)\u001b[0m you\n",
              "\u001b[1m(\u001b[0m\u001b[1;36m0.77\u001b[0m\u001b[1m)\u001b[0m sound\n",
              "\u001b[1m(\u001b[0m\u001b[1;36m0.77\u001b[0m\u001b[1m)\u001b[0m research\n",
              "\u001b[1m(\u001b[0m\u001b[1;36m0.77\u001b[0m\u001b[1m)\u001b[0m inter\n",
              "\u001b[1m(\u001b[0m\u001b[1;36m0.77\u001b[0m\u001b[1m)\u001b[0m from\n",
              "\u001b[1m(\u001b[0m\u001b[1;36m0.77\u001b[0m\u001b[1m)\u001b[0m import\n",
              "\u001b[1m(\u001b[0m\u001b[1;36m0.77\u001b[0m\u001b[1m)\u001b[0m super\n",
              "\n",
              "Bottom tokens:\n",
              "\u001b[1m(\u001b[0m\u001b[1;36m0.34\u001b[0m\u001b[1m)\u001b[0m ��\n",
              "\u001b[1m(\u001b[0m\u001b[1;36m0.35\u001b[0m\u001b[1m)\u001b[0m medsc\n",
              "\u001b[1m(\u001b[0m\u001b[1;36m0.38\u001b[0m\u001b[1m)\u001b[0m  doxor\n",
              "\u001b[1m(\u001b[0m\u001b[1;36m0.41\u001b[0m\u001b[1m)\u001b[0m \u001b[1m}\u001b[0m\u001b[1m{\u001b[0m~\n",
              "\u001b[1m(\u001b[0m\u001b[1;36m0.42\u001b[0m\u001b[1m)\u001b[0m  cryptocur\n",
              "\u001b[1m(\u001b[0m\u001b[1;36m0.42\u001b[0m\u001b[1m)\u001b[0m ÃÂ\n",
              "\u001b[1m(\u001b[0m\u001b[1;36m0.43\u001b[0m\u001b[1m)\u001b[0m ortunately\n",
              "\u001b[1m(\u001b[0m\u001b[1;36m0.43\u001b[0m\u001b[1m)\u001b[0m  teasp\n",
              "\u001b[1m(\u001b[0m\u001b[1;36m0.44\u001b[0m\u001b[1m)\u001b[0m  affidav\n",
              "\u001b[1m(\u001b[0m\u001b[1;36m0.44\u001b[0m\u001b[1m)\u001b[0m acebook\n",
              "\n"
            ],
            "text/html": [
              "<pre style=\"white-space:pre;overflow-x:auto;line-height:normal;font-family:Menlo,'DejaVu Sans Mono',consolas,'Courier New',monospace\">Top tokens:\n",
              "<span style=\"font-weight: bold\">(</span><span style=\"color: #008080; text-decoration-color: #008080; font-weight: bold\">0.78</span><span style=\"font-weight: bold\">)</span> international\n",
              "<span style=\"font-weight: bold\">(</span><span style=\"color: #008080; text-decoration-color: #008080; font-weight: bold\">0.78</span><span style=\"font-weight: bold\">)</span> football\n",
              "<span style=\"font-weight: bold\">(</span><span style=\"color: #008080; text-decoration-color: #008080; font-weight: bold\">0.77</span><span style=\"font-weight: bold\">)</span> the\n",
              "<span style=\"font-weight: bold\">(</span><span style=\"color: #008080; text-decoration-color: #008080; font-weight: bold\">0.77</span><span style=\"font-weight: bold\">)</span> you\n",
              "<span style=\"font-weight: bold\">(</span><span style=\"color: #008080; text-decoration-color: #008080; font-weight: bold\">0.77</span><span style=\"font-weight: bold\">)</span> sound\n",
              "<span style=\"font-weight: bold\">(</span><span style=\"color: #008080; text-decoration-color: #008080; font-weight: bold\">0.77</span><span style=\"font-weight: bold\">)</span> research\n",
              "<span style=\"font-weight: bold\">(</span><span style=\"color: #008080; text-decoration-color: #008080; font-weight: bold\">0.77</span><span style=\"font-weight: bold\">)</span> inter\n",
              "<span style=\"font-weight: bold\">(</span><span style=\"color: #008080; text-decoration-color: #008080; font-weight: bold\">0.77</span><span style=\"font-weight: bold\">)</span> from\n",
              "<span style=\"font-weight: bold\">(</span><span style=\"color: #008080; text-decoration-color: #008080; font-weight: bold\">0.77</span><span style=\"font-weight: bold\">)</span> import\n",
              "<span style=\"font-weight: bold\">(</span><span style=\"color: #008080; text-decoration-color: #008080; font-weight: bold\">0.77</span><span style=\"font-weight: bold\">)</span> super\n",
              "\n",
              "Bottom tokens:\n",
              "<span style=\"font-weight: bold\">(</span><span style=\"color: #008080; text-decoration-color: #008080; font-weight: bold\">0.34</span><span style=\"font-weight: bold\">)</span> ��\n",
              "<span style=\"font-weight: bold\">(</span><span style=\"color: #008080; text-decoration-color: #008080; font-weight: bold\">0.35</span><span style=\"font-weight: bold\">)</span> medsc\n",
              "<span style=\"font-weight: bold\">(</span><span style=\"color: #008080; text-decoration-color: #008080; font-weight: bold\">0.38</span><span style=\"font-weight: bold\">)</span>  doxor\n",
              "<span style=\"font-weight: bold\">(</span><span style=\"color: #008080; text-decoration-color: #008080; font-weight: bold\">0.41</span><span style=\"font-weight: bold\">)</span> <span style=\"font-weight: bold\">}{</span>~\n",
              "<span style=\"font-weight: bold\">(</span><span style=\"color: #008080; text-decoration-color: #008080; font-weight: bold\">0.42</span><span style=\"font-weight: bold\">)</span>  cryptocur\n",
              "<span style=\"font-weight: bold\">(</span><span style=\"color: #008080; text-decoration-color: #008080; font-weight: bold\">0.42</span><span style=\"font-weight: bold\">)</span> ÃÂ\n",
              "<span style=\"font-weight: bold\">(</span><span style=\"color: #008080; text-decoration-color: #008080; font-weight: bold\">0.43</span><span style=\"font-weight: bold\">)</span> ortunately\n",
              "<span style=\"font-weight: bold\">(</span><span style=\"color: #008080; text-decoration-color: #008080; font-weight: bold\">0.43</span><span style=\"font-weight: bold\">)</span>  teasp\n",
              "<span style=\"font-weight: bold\">(</span><span style=\"color: #008080; text-decoration-color: #008080; font-weight: bold\">0.44</span><span style=\"font-weight: bold\">)</span>  affidav\n",
              "<span style=\"font-weight: bold\">(</span><span style=\"color: #008080; text-decoration-color: #008080; font-weight: bold\">0.44</span><span style=\"font-weight: bold\">)</span> acebook\n",
              "\n",
              "</pre>\n"
            ]
          },
          "metadata": {}
        },
        {
          "output_type": "stream",
          "name": "stdout",
          "text": [
            "\n",
            "Analyzing high-probability feature 1054:\n"
          ]
        },
        {
          "output_type": "display_data",
          "data": {
            "text/plain": [
              "\u001b[3m                 Tokens which most activate this feature                 \u001b[0m\n",
              "┏━━━━━━━━━━━━━━━━━━━━━━━━━━━━━━━━━━━━━━━━━━━━━━━━━━━━━━━━━━┳━━━━━━━━━━━━┓\n",
              "┃\u001b[1m \u001b[0m\u001b[1mSequence                                                \u001b[0m\u001b[1m \u001b[0m┃\u001b[1m \u001b[0m\u001b[1mActivation\u001b[0m\u001b[1m \u001b[0m┃\n",
              "┡━━━━━━━━━━━━━━━━━━━━━━━━━━━━━━━━━━━━━━━━━━━━━━━━━━━━━━━━━━╇━━━━━━━━━━━━┩\n",
              "│  2  # make patterns\u001b[1;4;38;5;208m happy\u001b[0m\\n        iterator =            │ 41.59      │\n",
              "│ <|endoftext|> was such a\u001b[1;4;38;5;208m marvel\u001b[0mous minute since although │ 41.43      │\n",
              "│ in-keras.\u001b[1;4;38;5;208mhtml\u001b[0m\\ndef sampling(                             │ 41.08      │\n",
              "│  selenium, the behavior is\u001b[1;4;38;5;208m different\u001b[0m.\\n    #             │ 40.98      │\n",
              "│  access page after passing entrance\u001b[1;4;38;5;208m exam\u001b[0m\\n        \"\"\"\\n  │ 40.67      │\n",
              "│ )\\n# join the\u001b[1;4;38;5;208m genes\u001b[0m                                      │ 40.65      │\n",
              "│  Let's insert three CEO\u001b[1;4;38;5;208m names\u001b[0m, companies and salaries    │ 40.41      │\n",
              "│  likely want to filter more\u001b[1;4;38;5;208m broadly\u001b[0m.\\n  options          │ 40.40      │\n",
              "│  the GARMIN activity\u001b[1;4;38;5;208m links\u001b[0m for selected\\n#               │ 40.31      │\n",
              "│ \\nFunctions used for ROI\u001b[1;4;38;5;208m manipulation\u001b[0m.\\n\\nAuthors        │ 40.31      │\n",
              "└──────────────────────────────────────────────────────────┴────────────┘\n"
            ],
            "text/html": [
              "<pre style=\"white-space:pre;overflow-x:auto;line-height:normal;font-family:Menlo,'DejaVu Sans Mono',consolas,'Courier New',monospace\"><span style=\"font-style: italic\">                 Tokens which most activate this feature                 </span>\n",
              "┏━━━━━━━━━━━━━━━━━━━━━━━━━━━━━━━━━━━━━━━━━━━━━━━━━━━━━━━━━━┳━━━━━━━━━━━━┓\n",
              "┃<span style=\"font-weight: bold\"> Sequence                                                 </span>┃<span style=\"font-weight: bold\"> Activation </span>┃\n",
              "┡━━━━━━━━━━━━━━━━━━━━━━━━━━━━━━━━━━━━━━━━━━━━━━━━━━━━━━━━━━╇━━━━━━━━━━━━┩\n",
              "│  2  # make patterns<span style=\"color: #ff8700; text-decoration-color: #ff8700; font-weight: bold; text-decoration: underline\"> happy</span>\\n        iterator =            │ 41.59      │\n",
              "│ &lt;|endoftext|&gt; was such a<span style=\"color: #ff8700; text-decoration-color: #ff8700; font-weight: bold; text-decoration: underline\"> marvel</span>ous minute since although │ 41.43      │\n",
              "│ in-keras.<span style=\"color: #ff8700; text-decoration-color: #ff8700; font-weight: bold; text-decoration: underline\">html</span>\\ndef sampling(                             │ 41.08      │\n",
              "│  selenium, the behavior is<span style=\"color: #ff8700; text-decoration-color: #ff8700; font-weight: bold; text-decoration: underline\"> different</span>.\\n    #             │ 40.98      │\n",
              "│  access page after passing entrance<span style=\"color: #ff8700; text-decoration-color: #ff8700; font-weight: bold; text-decoration: underline\"> exam</span>\\n        \"\"\"\\n  │ 40.67      │\n",
              "│ )\\n# join the<span style=\"color: #ff8700; text-decoration-color: #ff8700; font-weight: bold; text-decoration: underline\"> genes</span>                                      │ 40.65      │\n",
              "│  Let's insert three CEO<span style=\"color: #ff8700; text-decoration-color: #ff8700; font-weight: bold; text-decoration: underline\"> names</span>, companies and salaries    │ 40.41      │\n",
              "│  likely want to filter more<span style=\"color: #ff8700; text-decoration-color: #ff8700; font-weight: bold; text-decoration: underline\"> broadly</span>.\\n  options          │ 40.40      │\n",
              "│  the GARMIN activity<span style=\"color: #ff8700; text-decoration-color: #ff8700; font-weight: bold; text-decoration: underline\"> links</span> for selected\\n#               │ 40.31      │\n",
              "│ \\nFunctions used for ROI<span style=\"color: #ff8700; text-decoration-color: #ff8700; font-weight: bold; text-decoration: underline\"> manipulation</span>.\\n\\nAuthors        │ 40.31      │\n",
              "└──────────────────────────────────────────────────────────┴────────────┘\n",
              "</pre>\n"
            ]
          },
          "metadata": {}
        },
        {
          "output_type": "display_data",
          "data": {
            "text/plain": [
              "Top tokens:\n",
              "\u001b[1m(\u001b[0m\u001b[1;36m0.28\u001b[0m\u001b[1m)\u001b[0m \n",
              "\n",
              "\u001b[1m(\u001b[0m\u001b[1;36m0.26\u001b[0m\u001b[1m)\u001b[0m .\n",
              "\u001b[1m(\u001b[0m\u001b[1;36m0.25\u001b[0m\u001b[1m)\u001b[0m :\n",
              "\u001b[1m(\u001b[0m\u001b[1;36m0.25\u001b[0m\u001b[1m)\u001b[0m \u001b[35m/\u001b[0m\n",
              "\u001b[1m(\u001b[0m\u001b[1;36m0.25\u001b[0m\u001b[1m)\u001b[0m  \u001b[1m(\u001b[0m\n",
              "\u001b[1m(\u001b[0m\u001b[1;36m0.24\u001b[0m\u001b[1m)\u001b[0m ;\n",
              "\u001b[1m(\u001b[0m\u001b[1;36m0.24\u001b[0m\u001b[1m)\u001b[0m -\n",
              "\u001b[1m(\u001b[0m\u001b[1;36m0.24\u001b[0m\u001b[1m)\u001b[0m \u001b[1m)\u001b[0m\n",
              "\u001b[1m(\u001b[0m\u001b[1;36m0.22\u001b[0m\u001b[1m)\u001b[0m \u001b[1m(\u001b[0m\n",
              "\u001b[1m(\u001b[0m\u001b[1;36m0.22\u001b[0m\u001b[1m)\u001b[0m '\n",
              "\n",
              "Bottom tokens:\n",
              "\u001b[1m(\u001b[0m\u001b[1;36m-0.40\u001b[0m\u001b[1m)\u001b[0m PDATE\n",
              "\u001b[1m(\u001b[0m\u001b[1;36m-0.40\u001b[0m\u001b[1m)\u001b[0m  triglycer\n",
              "\u001b[1m(\u001b[0m\u001b[1;36m-0.39\u001b[0m\u001b[1m)\u001b[0m acebook\n",
              "\u001b[1m(\u001b[0m\u001b[1;36m-0.38\u001b[0m\u001b[1m)\u001b[0m oddsidemargin\n",
              "\u001b[1m(\u001b[0m\u001b[1;36m-0.38\u001b[0m\u001b[1m)\u001b[0m  cryptocur\n",
              "\u001b[1m(\u001b[0m\u001b[1;36m-0.37\u001b[0m\u001b[1m)\u001b[0m opyright\n",
              "\u001b[1m(\u001b[0m\u001b[1;36m-0.37\u001b[0m\u001b[1m)\u001b[0m ariju\n",
              "\u001b[1m(\u001b[0m\u001b[1;36m-0.36\u001b[0m\u001b[1m)\u001b[0m ��\n",
              "\u001b[1m(\u001b[0m\u001b[1;36m-0.34\u001b[0m\u001b[1m)\u001b[0m \u001b[1m[\u001b[0m\u001b[1m]\u001b[0m$\n",
              "\u001b[1m(\u001b[0m\u001b[1;36m-0.34\u001b[0m\u001b[1m)\u001b[0m icrosoft\n",
              "\n"
            ],
            "text/html": [
              "<pre style=\"white-space:pre;overflow-x:auto;line-height:normal;font-family:Menlo,'DejaVu Sans Mono',consolas,'Courier New',monospace\">Top tokens:\n",
              "<span style=\"font-weight: bold\">(</span><span style=\"color: #008080; text-decoration-color: #008080; font-weight: bold\">0.28</span><span style=\"font-weight: bold\">)</span> \n",
              "\n",
              "<span style=\"font-weight: bold\">(</span><span style=\"color: #008080; text-decoration-color: #008080; font-weight: bold\">0.26</span><span style=\"font-weight: bold\">)</span> .\n",
              "<span style=\"font-weight: bold\">(</span><span style=\"color: #008080; text-decoration-color: #008080; font-weight: bold\">0.25</span><span style=\"font-weight: bold\">)</span> :\n",
              "<span style=\"font-weight: bold\">(</span><span style=\"color: #008080; text-decoration-color: #008080; font-weight: bold\">0.25</span><span style=\"font-weight: bold\">)</span> <span style=\"color: #800080; text-decoration-color: #800080\">/</span>\n",
              "<span style=\"font-weight: bold\">(</span><span style=\"color: #008080; text-decoration-color: #008080; font-weight: bold\">0.25</span><span style=\"font-weight: bold\">)</span>  <span style=\"font-weight: bold\">(</span>\n",
              "<span style=\"font-weight: bold\">(</span><span style=\"color: #008080; text-decoration-color: #008080; font-weight: bold\">0.24</span><span style=\"font-weight: bold\">)</span> ;\n",
              "<span style=\"font-weight: bold\">(</span><span style=\"color: #008080; text-decoration-color: #008080; font-weight: bold\">0.24</span><span style=\"font-weight: bold\">)</span> -\n",
              "<span style=\"font-weight: bold\">(</span><span style=\"color: #008080; text-decoration-color: #008080; font-weight: bold\">0.24</span><span style=\"font-weight: bold\">)</span> <span style=\"font-weight: bold\">)</span>\n",
              "<span style=\"font-weight: bold\">(</span><span style=\"color: #008080; text-decoration-color: #008080; font-weight: bold\">0.22</span><span style=\"font-weight: bold\">)</span> <span style=\"font-weight: bold\">(</span>\n",
              "<span style=\"font-weight: bold\">(</span><span style=\"color: #008080; text-decoration-color: #008080; font-weight: bold\">0.22</span><span style=\"font-weight: bold\">)</span> '\n",
              "\n",
              "Bottom tokens:\n",
              "<span style=\"font-weight: bold\">(</span><span style=\"color: #008080; text-decoration-color: #008080; font-weight: bold\">-0.40</span><span style=\"font-weight: bold\">)</span> PDATE\n",
              "<span style=\"font-weight: bold\">(</span><span style=\"color: #008080; text-decoration-color: #008080; font-weight: bold\">-0.40</span><span style=\"font-weight: bold\">)</span>  triglycer\n",
              "<span style=\"font-weight: bold\">(</span><span style=\"color: #008080; text-decoration-color: #008080; font-weight: bold\">-0.39</span><span style=\"font-weight: bold\">)</span> acebook\n",
              "<span style=\"font-weight: bold\">(</span><span style=\"color: #008080; text-decoration-color: #008080; font-weight: bold\">-0.38</span><span style=\"font-weight: bold\">)</span> oddsidemargin\n",
              "<span style=\"font-weight: bold\">(</span><span style=\"color: #008080; text-decoration-color: #008080; font-weight: bold\">-0.38</span><span style=\"font-weight: bold\">)</span>  cryptocur\n",
              "<span style=\"font-weight: bold\">(</span><span style=\"color: #008080; text-decoration-color: #008080; font-weight: bold\">-0.37</span><span style=\"font-weight: bold\">)</span> opyright\n",
              "<span style=\"font-weight: bold\">(</span><span style=\"color: #008080; text-decoration-color: #008080; font-weight: bold\">-0.37</span><span style=\"font-weight: bold\">)</span> ariju\n",
              "<span style=\"font-weight: bold\">(</span><span style=\"color: #008080; text-decoration-color: #008080; font-weight: bold\">-0.36</span><span style=\"font-weight: bold\">)</span> ��\n",
              "<span style=\"font-weight: bold\">(</span><span style=\"color: #008080; text-decoration-color: #008080; font-weight: bold\">-0.34</span><span style=\"font-weight: bold\">)</span> <span style=\"font-weight: bold\">[]</span>$\n",
              "<span style=\"font-weight: bold\">(</span><span style=\"color: #008080; text-decoration-color: #008080; font-weight: bold\">-0.34</span><span style=\"font-weight: bold\">)</span> icrosoft\n",
              "\n",
              "</pre>\n"
            ]
          },
          "metadata": {}
        },
        {
          "output_type": "stream",
          "name": "stdout",
          "text": [
            "\n",
            "Analyzing high-probability feature 1305:\n"
          ]
        },
        {
          "output_type": "display_data",
          "data": {
            "text/plain": [
              "\u001b[3m                        Tokens which most activate this feature                        \u001b[0m\n",
              "┏━━━━━━━━━━━━━━━━━━━━━━━━━━━━━━━━━━━━━━━━━━━━━━━━━━━━━━━━━━━━━━━━━━━━━━━━┳━━━━━━━━━━━━┓\n",
              "┃\u001b[1m \u001b[0m\u001b[1mSequence                                                              \u001b[0m\u001b[1m \u001b[0m┃\u001b[1m \u001b[0m\u001b[1mActivation\u001b[0m\u001b[1m \u001b[0m┃\n",
              "┡━━━━━━━━━━━━━━━━━━━━━━━━━━━━━━━━━━━━━━━━━━━━━━━━━━━━━━━━━━━━━━━━━━━━━━━━╇━━━━━━━━━━━━┩\n",
              "│ <|endoftext|>', type=str\u001b[1;4;38;5;208m,\u001b[0m required=True,                               │ 19.46      │\n",
              "│ k_save_path\u001b[1;4;38;5;208m,\u001b[0m data_type,                                                │ 19.38      │\n",
              "│         self.prefixList\u001b[1;4;38;5;208m=\u001b[0mprefixList\\n                                   │ 18.60      │\n",
              "│ _symjump(p\u001b[1;4;38;5;208m,\u001b[0m a):\\n                                                      │ 18.47      │\n",
              "│ utor_target=(str\u001b[1;4;38;5;208m,\u001b[0m unicode),\\n                                          │ 18.37      │\n",
              "│ 8_file(fp\u001b[1;4;38;5;208m,\u001b[0m ustr):\\n                                                    │ 18.35      │\n",
              "│ .join(dirname,\u001b[1;4;38;5;208m var\u001b[0m.name)\\n                                             │ 18.25      │\n",
              "│ (self,basePath\u001b[1;4;38;5;208m,\u001b[0mdepth=0,                                                │ 18.21      │\n",
              "│ bin',\\n    #\u001b[1;4;38;5;208m                        \u001b[0m                             'data │ 18.16      │\n",
              "│ FLAGS.data_dir\u001b[1;4;38;5;208m,\u001b[0m 'cifar-                                                │ 18.11      │\n",
              "└────────────────────────────────────────────────────────────────────────┴────────────┘\n"
            ],
            "text/html": [
              "<pre style=\"white-space:pre;overflow-x:auto;line-height:normal;font-family:Menlo,'DejaVu Sans Mono',consolas,'Courier New',monospace\"><span style=\"font-style: italic\">                        Tokens which most activate this feature                        </span>\n",
              "┏━━━━━━━━━━━━━━━━━━━━━━━━━━━━━━━━━━━━━━━━━━━━━━━━━━━━━━━━━━━━━━━━━━━━━━━━┳━━━━━━━━━━━━┓\n",
              "┃<span style=\"font-weight: bold\"> Sequence                                                               </span>┃<span style=\"font-weight: bold\"> Activation </span>┃\n",
              "┡━━━━━━━━━━━━━━━━━━━━━━━━━━━━━━━━━━━━━━━━━━━━━━━━━━━━━━━━━━━━━━━━━━━━━━━━╇━━━━━━━━━━━━┩\n",
              "│ &lt;|endoftext|&gt;', type=str<span style=\"color: #ff8700; text-decoration-color: #ff8700; font-weight: bold; text-decoration: underline\">,</span> required=True,                               │ 19.46      │\n",
              "│ k_save_path<span style=\"color: #ff8700; text-decoration-color: #ff8700; font-weight: bold; text-decoration: underline\">,</span> data_type,                                                │ 19.38      │\n",
              "│         self.prefixList<span style=\"color: #ff8700; text-decoration-color: #ff8700; font-weight: bold; text-decoration: underline\">=</span>prefixList\\n                                   │ 18.60      │\n",
              "│ _symjump(p<span style=\"color: #ff8700; text-decoration-color: #ff8700; font-weight: bold; text-decoration: underline\">,</span> a):\\n                                                      │ 18.47      │\n",
              "│ utor_target=(str<span style=\"color: #ff8700; text-decoration-color: #ff8700; font-weight: bold; text-decoration: underline\">,</span> unicode),\\n                                          │ 18.37      │\n",
              "│ 8_file(fp<span style=\"color: #ff8700; text-decoration-color: #ff8700; font-weight: bold; text-decoration: underline\">,</span> ustr):\\n                                                    │ 18.35      │\n",
              "│ .join(dirname,<span style=\"color: #ff8700; text-decoration-color: #ff8700; font-weight: bold; text-decoration: underline\"> var</span>.name)\\n                                             │ 18.25      │\n",
              "│ (self,basePath<span style=\"color: #ff8700; text-decoration-color: #ff8700; font-weight: bold; text-decoration: underline\">,</span>depth=0,                                                │ 18.21      │\n",
              "│ bin',\\n    #<span style=\"color: #ff8700; text-decoration-color: #ff8700; font-weight: bold; text-decoration: underline\">                        </span>                             'data │ 18.16      │\n",
              "│ FLAGS.data_dir<span style=\"color: #ff8700; text-decoration-color: #ff8700; font-weight: bold; text-decoration: underline\">,</span> 'cifar-                                                │ 18.11      │\n",
              "└────────────────────────────────────────────────────────────────────────┴────────────┘\n",
              "</pre>\n"
            ]
          },
          "metadata": {}
        },
        {
          "output_type": "display_data",
          "data": {
            "text/plain": [
              "Top tokens:\n",
              "\u001b[1m(\u001b[0m\u001b[1;36m0.67\u001b[0m\u001b[1m)\u001b[0m \u001b[1m)\u001b[0m\n",
              "\u001b[1m(\u001b[0m\u001b[1;36m0.67\u001b[0m\u001b[1m)\u001b[0m `\n",
              "\u001b[1m(\u001b[0m\u001b[1;36m0.66\u001b[0m\u001b[1m)\u001b[0m '\u001b[1m)\u001b[0m\n",
              "\u001b[1m(\u001b[0m\u001b[1;36m0.65\u001b[0m\u001b[1m)\u001b[0m *\u001b[1m)\u001b[0m\n",
              "\u001b[1m(\u001b[0m\u001b[1;36m0.63\u001b[0m\u001b[1m)\u001b[0m \u001b[1m)\u001b[0m*\u001b[1m(\u001b[0m\n",
              "\u001b[1m(\u001b[0m\u001b[1;36m0.62\u001b[0m\u001b[1m)\u001b[0m  `\n",
              "\u001b[1m(\u001b[0m\u001b[1;36m0.61\u001b[0m\u001b[1m)\u001b[0m \u001b[1m)\u001b[0m*\n",
              "\u001b[1m(\u001b[0m\u001b[1;36m0.61\u001b[0m\u001b[1m)\u001b[0m `\u001b[1m)\u001b[0m\n",
              "\u001b[1m(\u001b[0m\u001b[1;36m0.61\u001b[0m\u001b[1m)\u001b[0m =`\n",
              "\u001b[1m(\u001b[0m\u001b[1;36m0.61\u001b[0m\u001b[1m)\u001b[0m \u001b[35m/\u001b[0m*\n",
              "\n",
              "Bottom tokens:\n",
              "\u001b[1m(\u001b[0m\u001b[1;36m-0.20\u001b[0m\u001b[1m)\u001b[0m  cryptocur\n",
              "\u001b[1m(\u001b[0m\u001b[1;36m-0.17\u001b[0m\u001b[1m)\u001b[0m ICENSE\n",
              "\u001b[1m(\u001b[0m\u001b[1;36m-0.15\u001b[0m\u001b[1m)\u001b[0m widet\n",
              "\u001b[1m(\u001b[0m\u001b[1;36m-0.15\u001b[0m\u001b[1m)\u001b[0m oddsidemargin\n",
              "\u001b[1m(\u001b[0m\u001b[1;36m-0.13\u001b[0m\u001b[1m)\u001b[0m  triglycer\n",
              "\u001b[1m(\u001b[0m\u001b[1;36m-0.12\u001b[0m\u001b[1m)\u001b[0m PDATE\n",
              "\u001b[1m(\u001b[0m\u001b[1;36m-0.10\u001b[0m\u001b[1m)\u001b[0m ORANDUM\n",
              "\u001b[1m(\u001b[0m\u001b[1;36m-0.08\u001b[0m\u001b[1m)\u001b[0m  $\u001b[1m[\u001b[0m\u001b[1m]\u001b[0m$\n",
              "\u001b[1m(\u001b[0m\u001b[1;36m-0.08\u001b[0m\u001b[1m)\u001b[0m \n",
              "\n",
              " \n",
              "\u001b[1m(\u001b[0m\u001b[1;36m-0.06\u001b[0m\u001b[1m)\u001b[0m \u001b[33m...\u001b[0m\\\u001b[33m...\u001b[0m\\\n",
              "\n"
            ],
            "text/html": [
              "<pre style=\"white-space:pre;overflow-x:auto;line-height:normal;font-family:Menlo,'DejaVu Sans Mono',consolas,'Courier New',monospace\">Top tokens:\n",
              "<span style=\"font-weight: bold\">(</span><span style=\"color: #008080; text-decoration-color: #008080; font-weight: bold\">0.67</span><span style=\"font-weight: bold\">)</span> <span style=\"font-weight: bold\">)</span>\n",
              "<span style=\"font-weight: bold\">(</span><span style=\"color: #008080; text-decoration-color: #008080; font-weight: bold\">0.67</span><span style=\"font-weight: bold\">)</span> `\n",
              "<span style=\"font-weight: bold\">(</span><span style=\"color: #008080; text-decoration-color: #008080; font-weight: bold\">0.66</span><span style=\"font-weight: bold\">)</span> '<span style=\"font-weight: bold\">)</span>\n",
              "<span style=\"font-weight: bold\">(</span><span style=\"color: #008080; text-decoration-color: #008080; font-weight: bold\">0.65</span><span style=\"font-weight: bold\">)</span> *<span style=\"font-weight: bold\">)</span>\n",
              "<span style=\"font-weight: bold\">(</span><span style=\"color: #008080; text-decoration-color: #008080; font-weight: bold\">0.63</span><span style=\"font-weight: bold\">)</span> <span style=\"font-weight: bold\">)</span>*<span style=\"font-weight: bold\">(</span>\n",
              "<span style=\"font-weight: bold\">(</span><span style=\"color: #008080; text-decoration-color: #008080; font-weight: bold\">0.62</span><span style=\"font-weight: bold\">)</span>  `\n",
              "<span style=\"font-weight: bold\">(</span><span style=\"color: #008080; text-decoration-color: #008080; font-weight: bold\">0.61</span><span style=\"font-weight: bold\">)</span> <span style=\"font-weight: bold\">)</span>*\n",
              "<span style=\"font-weight: bold\">(</span><span style=\"color: #008080; text-decoration-color: #008080; font-weight: bold\">0.61</span><span style=\"font-weight: bold\">)</span> `<span style=\"font-weight: bold\">)</span>\n",
              "<span style=\"font-weight: bold\">(</span><span style=\"color: #008080; text-decoration-color: #008080; font-weight: bold\">0.61</span><span style=\"font-weight: bold\">)</span> =`\n",
              "<span style=\"font-weight: bold\">(</span><span style=\"color: #008080; text-decoration-color: #008080; font-weight: bold\">0.61</span><span style=\"font-weight: bold\">)</span> <span style=\"color: #800080; text-decoration-color: #800080\">/</span>*\n",
              "\n",
              "Bottom tokens:\n",
              "<span style=\"font-weight: bold\">(</span><span style=\"color: #008080; text-decoration-color: #008080; font-weight: bold\">-0.20</span><span style=\"font-weight: bold\">)</span>  cryptocur\n",
              "<span style=\"font-weight: bold\">(</span><span style=\"color: #008080; text-decoration-color: #008080; font-weight: bold\">-0.17</span><span style=\"font-weight: bold\">)</span> ICENSE\n",
              "<span style=\"font-weight: bold\">(</span><span style=\"color: #008080; text-decoration-color: #008080; font-weight: bold\">-0.15</span><span style=\"font-weight: bold\">)</span> widet\n",
              "<span style=\"font-weight: bold\">(</span><span style=\"color: #008080; text-decoration-color: #008080; font-weight: bold\">-0.15</span><span style=\"font-weight: bold\">)</span> oddsidemargin\n",
              "<span style=\"font-weight: bold\">(</span><span style=\"color: #008080; text-decoration-color: #008080; font-weight: bold\">-0.13</span><span style=\"font-weight: bold\">)</span>  triglycer\n",
              "<span style=\"font-weight: bold\">(</span><span style=\"color: #008080; text-decoration-color: #008080; font-weight: bold\">-0.12</span><span style=\"font-weight: bold\">)</span> PDATE\n",
              "<span style=\"font-weight: bold\">(</span><span style=\"color: #008080; text-decoration-color: #008080; font-weight: bold\">-0.10</span><span style=\"font-weight: bold\">)</span> ORANDUM\n",
              "<span style=\"font-weight: bold\">(</span><span style=\"color: #008080; text-decoration-color: #008080; font-weight: bold\">-0.08</span><span style=\"font-weight: bold\">)</span>  $<span style=\"font-weight: bold\">[]</span>$\n",
              "<span style=\"font-weight: bold\">(</span><span style=\"color: #008080; text-decoration-color: #008080; font-weight: bold\">-0.08</span><span style=\"font-weight: bold\">)</span> \n",
              "\n",
              " \n",
              "<span style=\"font-weight: bold\">(</span><span style=\"color: #008080; text-decoration-color: #008080; font-weight: bold\">-0.06</span><span style=\"font-weight: bold\">)</span> <span style=\"color: #808000; text-decoration-color: #808000\">...</span>\\<span style=\"color: #808000; text-decoration-color: #808000\">...</span>\\\n",
              "\n",
              "</pre>\n"
            ]
          },
          "metadata": {}
        },
        {
          "output_type": "stream",
          "name": "stdout",
          "text": [
            "\n",
            "Analyzing high-probability feature 1013:\n"
          ]
        },
        {
          "output_type": "display_data",
          "data": {
            "text/plain": [
              "\u001b[3m                 Tokens which most activate this feature                  \u001b[0m\n",
              "┏━━━━━━━━━━━━━━━━━━━━━━━━━━━━━━━━━━━━━━━━━━━━━━━━━━━━━━━━━━━┳━━━━━━━━━━━━┓\n",
              "┃\u001b[1m \u001b[0m\u001b[1mSequence                                                 \u001b[0m\u001b[1m \u001b[0m┃\u001b[1m \u001b[0m\u001b[1mActivation\u001b[0m\u001b[1m \u001b[0m┃\n",
              "┡━━━━━━━━━━━━━━━━━━━━━━━━━━━━━━━━━━━━━━━━━━━━━━━━━━━━━━━━━━━╇━━━━━━━━━━━━┩\n",
              "│ <|endoftext|>\u001b[1;4;38;5;208m []\u001b[0m # file raw\\n                             │ 23.28      │\n",
              "│         \"\"\"Returns channels filtered\u001b[1;4;38;5;208m wit\u001b[0m filt function\"\"\" │ 22.87      │\n",
              "│  != 1:\\n            \u001b[1;4;38;5;208mjah\u001b[0m = self.hn                         │ 22.71      │\n",
              "│ 0) * Tsun\u001b[1;4;38;5;208m**(\u001b[0m5.0/                                          │ 22.62      │\n",
              "│ rain==0 ) )\u001b[1;4;38;5;208m+(\u001b[0m np.all(                                     │ 22.34      │\n",
              "│ <|endoftext|> ob\u001b[1;4;38;5;208mjs\u001b[0m[1][\"                                   │ 22.10      │\n",
              "│  84):\\n                                         for\u001b[1;4;38;5;208m e\u001b[0m in  │ 22.05      │\n",
              "│ range(len                                                 │            │\n",
              "│ ink <swkeem\u001b[1;4;38;5;208mink\u001b[0m@scimail                                    │ 21.96      │\n",
              "│ be / project-cam\u001b[1;4;38;5;208mel\u001b[0mot@conceptive                           │ 21.95      │\n",
              "│ (OMDOT,\u001b[1;4;38;5;208m por\u001b[0mb, e):                                         │ 21.93      │\n",
              "└───────────────────────────────────────────────────────────┴────────────┘\n"
            ],
            "text/html": [
              "<pre style=\"white-space:pre;overflow-x:auto;line-height:normal;font-family:Menlo,'DejaVu Sans Mono',consolas,'Courier New',monospace\"><span style=\"font-style: italic\">                 Tokens which most activate this feature                  </span>\n",
              "┏━━━━━━━━━━━━━━━━━━━━━━━━━━━━━━━━━━━━━━━━━━━━━━━━━━━━━━━━━━━┳━━━━━━━━━━━━┓\n",
              "┃<span style=\"font-weight: bold\"> Sequence                                                  </span>┃<span style=\"font-weight: bold\"> Activation </span>┃\n",
              "┡━━━━━━━━━━━━━━━━━━━━━━━━━━━━━━━━━━━━━━━━━━━━━━━━━━━━━━━━━━━╇━━━━━━━━━━━━┩\n",
              "│ &lt;|endoftext|&gt;<span style=\"color: #ff8700; text-decoration-color: #ff8700; font-weight: bold; text-decoration: underline\"> []</span> # file raw\\n                             │ 23.28      │\n",
              "│         \"\"\"Returns channels filtered<span style=\"color: #ff8700; text-decoration-color: #ff8700; font-weight: bold; text-decoration: underline\"> wit</span> filt function\"\"\" │ 22.87      │\n",
              "│  != 1:\\n            <span style=\"color: #ff8700; text-decoration-color: #ff8700; font-weight: bold; text-decoration: underline\">jah</span> = self.hn                         │ 22.71      │\n",
              "│ 0) * Tsun<span style=\"color: #ff8700; text-decoration-color: #ff8700; font-weight: bold; text-decoration: underline\">**(</span>5.0/                                          │ 22.62      │\n",
              "│ rain==0 ) )<span style=\"color: #ff8700; text-decoration-color: #ff8700; font-weight: bold; text-decoration: underline\">+(</span> np.all(                                     │ 22.34      │\n",
              "│ &lt;|endoftext|&gt; ob<span style=\"color: #ff8700; text-decoration-color: #ff8700; font-weight: bold; text-decoration: underline\">js</span>[1][\"                                   │ 22.10      │\n",
              "│  84):\\n                                         for<span style=\"color: #ff8700; text-decoration-color: #ff8700; font-weight: bold; text-decoration: underline\"> e</span> in  │ 22.05      │\n",
              "│ range(len                                                 │            │\n",
              "│ ink &lt;swkeem<span style=\"color: #ff8700; text-decoration-color: #ff8700; font-weight: bold; text-decoration: underline\">ink</span>@scimail                                    │ 21.96      │\n",
              "│ be / project-cam<span style=\"color: #ff8700; text-decoration-color: #ff8700; font-weight: bold; text-decoration: underline\">el</span>ot@conceptive                           │ 21.95      │\n",
              "│ (OMDOT,<span style=\"color: #ff8700; text-decoration-color: #ff8700; font-weight: bold; text-decoration: underline\"> por</span>b, e):                                         │ 21.93      │\n",
              "└───────────────────────────────────────────────────────────┴────────────┘\n",
              "</pre>\n"
            ]
          },
          "metadata": {}
        },
        {
          "output_type": "display_data",
          "data": {
            "text/plain": [
              "Top tokens:\n",
              "\u001b[1m(\u001b[0m\u001b[1;36m-0.74\u001b[0m\u001b[1m)\u001b[0m -\n",
              "\u001b[1m(\u001b[0m\u001b[1;36m-0.76\u001b[0m\u001b[1m)\u001b[0m \u001b[35m/\u001b[0m\n",
              "\u001b[1m(\u001b[0m\u001b[1;36m-0.76\u001b[0m\u001b[1m)\u001b[0m  the\n",
              "\u001b[1m(\u001b[0m\u001b[1;36m-0.76\u001b[0m\u001b[1m)\u001b[0m  to\n",
              "\u001b[1m(\u001b[0m\u001b[1;36m-0.77\u001b[0m\u001b[1m)\u001b[0m  in\n",
              "\u001b[1m(\u001b[0m\u001b[1;36m-0.77\u001b[0m\u001b[1m)\u001b[0m  with\n",
              "\u001b[1m(\u001b[0m\u001b[1;36m-0.77\u001b[0m\u001b[1m)\u001b[0m  and\n",
              "\u001b[1m(\u001b[0m\u001b[1;36m-0.77\u001b[0m\u001b[1m)\u001b[0m  is\n",
              "\u001b[1m(\u001b[0m\u001b[1;36m-0.78\u001b[0m\u001b[1m)\u001b[0m  of\n",
              "\u001b[1m(\u001b[0m\u001b[1;36m-0.78\u001b[0m\u001b[1m)\u001b[0m the\n",
              "\n",
              "Bottom tokens:\n",
              "\u001b[1m(\u001b[0m\u001b[1;36m-1.41\u001b[0m\u001b[1m)\u001b[0m acebook\n",
              "\u001b[1m(\u001b[0m\u001b[1;36m-1.33\u001b[0m\u001b[1m)\u001b[0m PDATE\n",
              "\u001b[1m(\u001b[0m\u001b[1;36m-1.33\u001b[0m\u001b[1m)\u001b[0m  entreprene\n",
              "\u001b[1m(\u001b[0m\u001b[1;36m-1.32\u001b[0m\u001b[1m)\u001b[0m  Palestin\n",
              "\u001b[1m(\u001b[0m\u001b[1;36m-1.32\u001b[0m\u001b[1m)\u001b[0m \u001b[1;36m14514\u001b[0m\n",
              "\u001b[1m(\u001b[0m\u001b[1;36m-1.32\u001b[0m\u001b[1m)\u001b[0m opyright\n",
              "\u001b[1m(\u001b[0m\u001b[1;36m-1.32\u001b[0m\u001b[1m)\u001b[0m  \u001b[35m/\u001b[0m*!\n",
              "\u001b[1m(\u001b[0m\u001b[1;36m-1.31\u001b[0m\u001b[1m)\u001b[0m \n",
              "\n",
              " \n",
              "\u001b[1m(\u001b[0m\u001b[1;36m-1.31\u001b[0m\u001b[1m)\u001b[0m oddsidemargin\n",
              "\u001b[1m(\u001b[0m\u001b[1;36m-1.31\u001b[0m\u001b[1m)\u001b[0m izontal\n",
              "\n"
            ],
            "text/html": [
              "<pre style=\"white-space:pre;overflow-x:auto;line-height:normal;font-family:Menlo,'DejaVu Sans Mono',consolas,'Courier New',monospace\">Top tokens:\n",
              "<span style=\"font-weight: bold\">(</span><span style=\"color: #008080; text-decoration-color: #008080; font-weight: bold\">-0.74</span><span style=\"font-weight: bold\">)</span> -\n",
              "<span style=\"font-weight: bold\">(</span><span style=\"color: #008080; text-decoration-color: #008080; font-weight: bold\">-0.76</span><span style=\"font-weight: bold\">)</span> <span style=\"color: #800080; text-decoration-color: #800080\">/</span>\n",
              "<span style=\"font-weight: bold\">(</span><span style=\"color: #008080; text-decoration-color: #008080; font-weight: bold\">-0.76</span><span style=\"font-weight: bold\">)</span>  the\n",
              "<span style=\"font-weight: bold\">(</span><span style=\"color: #008080; text-decoration-color: #008080; font-weight: bold\">-0.76</span><span style=\"font-weight: bold\">)</span>  to\n",
              "<span style=\"font-weight: bold\">(</span><span style=\"color: #008080; text-decoration-color: #008080; font-weight: bold\">-0.77</span><span style=\"font-weight: bold\">)</span>  in\n",
              "<span style=\"font-weight: bold\">(</span><span style=\"color: #008080; text-decoration-color: #008080; font-weight: bold\">-0.77</span><span style=\"font-weight: bold\">)</span>  with\n",
              "<span style=\"font-weight: bold\">(</span><span style=\"color: #008080; text-decoration-color: #008080; font-weight: bold\">-0.77</span><span style=\"font-weight: bold\">)</span>  and\n",
              "<span style=\"font-weight: bold\">(</span><span style=\"color: #008080; text-decoration-color: #008080; font-weight: bold\">-0.77</span><span style=\"font-weight: bold\">)</span>  is\n",
              "<span style=\"font-weight: bold\">(</span><span style=\"color: #008080; text-decoration-color: #008080; font-weight: bold\">-0.78</span><span style=\"font-weight: bold\">)</span>  of\n",
              "<span style=\"font-weight: bold\">(</span><span style=\"color: #008080; text-decoration-color: #008080; font-weight: bold\">-0.78</span><span style=\"font-weight: bold\">)</span> the\n",
              "\n",
              "Bottom tokens:\n",
              "<span style=\"font-weight: bold\">(</span><span style=\"color: #008080; text-decoration-color: #008080; font-weight: bold\">-1.41</span><span style=\"font-weight: bold\">)</span> acebook\n",
              "<span style=\"font-weight: bold\">(</span><span style=\"color: #008080; text-decoration-color: #008080; font-weight: bold\">-1.33</span><span style=\"font-weight: bold\">)</span> PDATE\n",
              "<span style=\"font-weight: bold\">(</span><span style=\"color: #008080; text-decoration-color: #008080; font-weight: bold\">-1.33</span><span style=\"font-weight: bold\">)</span>  entreprene\n",
              "<span style=\"font-weight: bold\">(</span><span style=\"color: #008080; text-decoration-color: #008080; font-weight: bold\">-1.32</span><span style=\"font-weight: bold\">)</span>  Palestin\n",
              "<span style=\"font-weight: bold\">(</span><span style=\"color: #008080; text-decoration-color: #008080; font-weight: bold\">-1.32</span><span style=\"font-weight: bold\">)</span> <span style=\"color: #008080; text-decoration-color: #008080; font-weight: bold\">14514</span>\n",
              "<span style=\"font-weight: bold\">(</span><span style=\"color: #008080; text-decoration-color: #008080; font-weight: bold\">-1.32</span><span style=\"font-weight: bold\">)</span> opyright\n",
              "<span style=\"font-weight: bold\">(</span><span style=\"color: #008080; text-decoration-color: #008080; font-weight: bold\">-1.32</span><span style=\"font-weight: bold\">)</span>  <span style=\"color: #800080; text-decoration-color: #800080\">/</span>*!\n",
              "<span style=\"font-weight: bold\">(</span><span style=\"color: #008080; text-decoration-color: #008080; font-weight: bold\">-1.31</span><span style=\"font-weight: bold\">)</span> \n",
              "\n",
              " \n",
              "<span style=\"font-weight: bold\">(</span><span style=\"color: #008080; text-decoration-color: #008080; font-weight: bold\">-1.31</span><span style=\"font-weight: bold\">)</span> oddsidemargin\n",
              "<span style=\"font-weight: bold\">(</span><span style=\"color: #008080; text-decoration-color: #008080; font-weight: bold\">-1.31</span><span style=\"font-weight: bold\">)</span> izontal\n",
              "\n",
              "</pre>\n"
            ]
          },
          "metadata": {}
        },
        {
          "output_type": "stream",
          "name": "stdout",
          "text": [
            "\n",
            "Analyzing high-probability feature 884:\n"
          ]
        },
        {
          "output_type": "display_data",
          "data": {
            "text/plain": [
              "\u001b[3m             Tokens which most activate this feature              \u001b[0m\n",
              "┏━━━━━━━━━━━━━━━━━━━━━━━━━━━━━━━━━━━━━━━━━━━━━━━━━━━┳━━━━━━━━━━━━┓\n",
              "┃\u001b[1m \u001b[0m\u001b[1mSequence                                         \u001b[0m\u001b[1m \u001b[0m┃\u001b[1m \u001b[0m\u001b[1mActivation\u001b[0m\u001b[1m \u001b[0m┃\n",
              "┡━━━━━━━━━━━━━━━━━━━━━━━━━━━━━━━━━━━━━━━━━━━━━━━━━━━╇━━━━━━━━━━━━┩\n",
              "│ 100.0)\\n\\n\u001b[1;4;38;5;208m        \u001b[0mreturn (int(                    │ 24.65      │\n",
              "│  s, v):\\n\\n\u001b[1;4;38;5;208m        \u001b[0mrgb = colorsys                 │ 24.53      │\n",
              "│ (*fracs)\\n\u001b[1;4;38;5;208m        \u001b[0mreturn (int(                    │ 23.97      │\n",
              "│  c, r):\\n\u001b[1;4;38;5;208m        \u001b[0mreturn self.arr                  │ 23.70      │\n",
              "│ els(self):\\n\u001b[1;4;38;5;208m        \u001b[0mreturn [self.                 │ 23.63      │\n",
              "│  range(n):\\n\u001b[1;4;38;5;208m  \u001b[0mdraw.text((                         │ 23.49      │\n",
              "│ .getSize()\\n\\n\u001b[1;4;38;5;208m    \u001b[0mcstr = p                        │ 23.04      │\n",
              "│ () / m)\\n\u001b[1;4;38;5;208m            \u001b[0mX = chain([                  │ 23.00      │\n",
              "│ varnames())):\\n\u001b[1;4;38;5;208m                    \u001b[0mslice_varnames │ 22.98      │\n",
              "│ .\\n\\n        \"\"\"\\n\u001b[1;4;38;5;208m        \u001b[0mif self.enabled         │ 22.97      │\n",
              "└───────────────────────────────────────────────────┴────────────┘\n"
            ],
            "text/html": [
              "<pre style=\"white-space:pre;overflow-x:auto;line-height:normal;font-family:Menlo,'DejaVu Sans Mono',consolas,'Courier New',monospace\"><span style=\"font-style: italic\">             Tokens which most activate this feature              </span>\n",
              "┏━━━━━━━━━━━━━━━━━━━━━━━━━━━━━━━━━━━━━━━━━━━━━━━━━━━┳━━━━━━━━━━━━┓\n",
              "┃<span style=\"font-weight: bold\"> Sequence                                          </span>┃<span style=\"font-weight: bold\"> Activation </span>┃\n",
              "┡━━━━━━━━━━━━━━━━━━━━━━━━━━━━━━━━━━━━━━━━━━━━━━━━━━━╇━━━━━━━━━━━━┩\n",
              "│ 100.0)\\n\\n<span style=\"color: #ff8700; text-decoration-color: #ff8700; font-weight: bold; text-decoration: underline\">        </span>return (int(                    │ 24.65      │\n",
              "│  s, v):\\n\\n<span style=\"color: #ff8700; text-decoration-color: #ff8700; font-weight: bold; text-decoration: underline\">        </span>rgb = colorsys                 │ 24.53      │\n",
              "│ (*fracs)\\n<span style=\"color: #ff8700; text-decoration-color: #ff8700; font-weight: bold; text-decoration: underline\">        </span>return (int(                    │ 23.97      │\n",
              "│  c, r):\\n<span style=\"color: #ff8700; text-decoration-color: #ff8700; font-weight: bold; text-decoration: underline\">        </span>return self.arr                  │ 23.70      │\n",
              "│ els(self):\\n<span style=\"color: #ff8700; text-decoration-color: #ff8700; font-weight: bold; text-decoration: underline\">        </span>return [self.                 │ 23.63      │\n",
              "│  range(n):\\n<span style=\"color: #ff8700; text-decoration-color: #ff8700; font-weight: bold; text-decoration: underline\">  </span>draw.text((                         │ 23.49      │\n",
              "│ .getSize()\\n\\n<span style=\"color: #ff8700; text-decoration-color: #ff8700; font-weight: bold; text-decoration: underline\">    </span>cstr = p                        │ 23.04      │\n",
              "│ () / m)\\n<span style=\"color: #ff8700; text-decoration-color: #ff8700; font-weight: bold; text-decoration: underline\">            </span>X = chain([                  │ 23.00      │\n",
              "│ varnames())):\\n<span style=\"color: #ff8700; text-decoration-color: #ff8700; font-weight: bold; text-decoration: underline\">                    </span>slice_varnames │ 22.98      │\n",
              "│ .\\n\\n        \"\"\"\\n<span style=\"color: #ff8700; text-decoration-color: #ff8700; font-weight: bold; text-decoration: underline\">        </span>if self.enabled         │ 22.97      │\n",
              "└───────────────────────────────────────────────────┴────────────┘\n",
              "</pre>\n"
            ]
          },
          "metadata": {}
        },
        {
          "output_type": "display_data",
          "data": {
            "text/plain": [
              "Top tokens:\n",
              "\u001b[1m(\u001b[0m\u001b[1;36m0.78\u001b[0m\u001b[1m)\u001b[0m \\\n",
              "\u001b[1m(\u001b[0m\u001b[1;36m0.76\u001b[0m\u001b[1m)\u001b[0m \u001b[1m}\u001b[0m\\\n",
              "\u001b[1m(\u001b[0m\u001b[1;36m0.74\u001b[0m\u001b[1m)\u001b[0m $\\\n",
              "\u001b[1m(\u001b[0m\u001b[1;36m0.74\u001b[0m\u001b[1m)\u001b[0m \u001b[1m{\u001b[0m\\\n",
              "\u001b[1m(\u001b[0m\u001b[1;36m0.73\u001b[0m\u001b[1m)\u001b[0m _>\n",
              "\u001b[1m(\u001b[0m\u001b[1;36m0.73\u001b[0m\u001b[1m)\u001b[0m _\\\n",
              "\u001b[1m(\u001b[0m\u001b[1;36m0.73\u001b[0m\u001b[1m)\u001b[0m !\\\n",
              "\u001b[1m(\u001b[0m\u001b[1;36m0.73\u001b[0m\u001b[1m)\u001b[0m *\\\n",
              "\u001b[1m(\u001b[0m\u001b[1;36m0.73\u001b[0m\u001b[1m)\u001b[0m \\_\n",
              "\u001b[1m(\u001b[0m\u001b[1;36m0.73\u001b[0m\u001b[1m)\u001b[0m _\n",
              "\n",
              "Bottom tokens:\n",
              "\u001b[1m(\u001b[0m\u001b[1;36m0.20\u001b[0m\u001b[1m)\u001b[0m  doxor\n",
              "\u001b[1m(\u001b[0m\u001b[1;36m0.22\u001b[0m\u001b[1m)\u001b[0m gorithm\n",
              "\u001b[1m(\u001b[0m\u001b[1;36m0.22\u001b[0m\u001b[1m)\u001b[0m  triglycer\n",
              "\u001b[1m(\u001b[0m\u001b[1;36m0.24\u001b[0m\u001b[1m)\u001b[0m enment\n",
              "\u001b[1m(\u001b[0m\u001b[1;36m0.25\u001b[0m\u001b[1m)\u001b[0m  Gmb\n",
              "\u001b[1m(\u001b[0m\u001b[1;36m0.26\u001b[0m\u001b[1m)\u001b[0m ��\n",
              "\u001b[1m(\u001b[0m\u001b[1;36m0.27\u001b[0m\u001b[1m)\u001b[0m tocol\n",
              "\u001b[1m(\u001b[0m\u001b[1;36m0.28\u001b[0m\u001b[1m)\u001b[0m utative\n",
              "\u001b[1m(\u001b[0m\u001b[1;36m0.28\u001b[0m\u001b[1m)\u001b[0m  algorith\n",
              "\u001b[1m(\u001b[0m\u001b[1;36m0.30\u001b[0m\u001b[1m)\u001b[0m scious\n",
              "\n"
            ],
            "text/html": [
              "<pre style=\"white-space:pre;overflow-x:auto;line-height:normal;font-family:Menlo,'DejaVu Sans Mono',consolas,'Courier New',monospace\">Top tokens:\n",
              "<span style=\"font-weight: bold\">(</span><span style=\"color: #008080; text-decoration-color: #008080; font-weight: bold\">0.78</span><span style=\"font-weight: bold\">)</span> \\\n",
              "<span style=\"font-weight: bold\">(</span><span style=\"color: #008080; text-decoration-color: #008080; font-weight: bold\">0.76</span><span style=\"font-weight: bold\">)</span> <span style=\"font-weight: bold\">}</span>\\\n",
              "<span style=\"font-weight: bold\">(</span><span style=\"color: #008080; text-decoration-color: #008080; font-weight: bold\">0.74</span><span style=\"font-weight: bold\">)</span> $\\\n",
              "<span style=\"font-weight: bold\">(</span><span style=\"color: #008080; text-decoration-color: #008080; font-weight: bold\">0.74</span><span style=\"font-weight: bold\">)</span> <span style=\"font-weight: bold\">{</span>\\\n",
              "<span style=\"font-weight: bold\">(</span><span style=\"color: #008080; text-decoration-color: #008080; font-weight: bold\">0.73</span><span style=\"font-weight: bold\">)</span> _&gt;\n",
              "<span style=\"font-weight: bold\">(</span><span style=\"color: #008080; text-decoration-color: #008080; font-weight: bold\">0.73</span><span style=\"font-weight: bold\">)</span> _\\\n",
              "<span style=\"font-weight: bold\">(</span><span style=\"color: #008080; text-decoration-color: #008080; font-weight: bold\">0.73</span><span style=\"font-weight: bold\">)</span> !\\\n",
              "<span style=\"font-weight: bold\">(</span><span style=\"color: #008080; text-decoration-color: #008080; font-weight: bold\">0.73</span><span style=\"font-weight: bold\">)</span> *\\\n",
              "<span style=\"font-weight: bold\">(</span><span style=\"color: #008080; text-decoration-color: #008080; font-weight: bold\">0.73</span><span style=\"font-weight: bold\">)</span> \\_\n",
              "<span style=\"font-weight: bold\">(</span><span style=\"color: #008080; text-decoration-color: #008080; font-weight: bold\">0.73</span><span style=\"font-weight: bold\">)</span> _\n",
              "\n",
              "Bottom tokens:\n",
              "<span style=\"font-weight: bold\">(</span><span style=\"color: #008080; text-decoration-color: #008080; font-weight: bold\">0.20</span><span style=\"font-weight: bold\">)</span>  doxor\n",
              "<span style=\"font-weight: bold\">(</span><span style=\"color: #008080; text-decoration-color: #008080; font-weight: bold\">0.22</span><span style=\"font-weight: bold\">)</span> gorithm\n",
              "<span style=\"font-weight: bold\">(</span><span style=\"color: #008080; text-decoration-color: #008080; font-weight: bold\">0.22</span><span style=\"font-weight: bold\">)</span>  triglycer\n",
              "<span style=\"font-weight: bold\">(</span><span style=\"color: #008080; text-decoration-color: #008080; font-weight: bold\">0.24</span><span style=\"font-weight: bold\">)</span> enment\n",
              "<span style=\"font-weight: bold\">(</span><span style=\"color: #008080; text-decoration-color: #008080; font-weight: bold\">0.25</span><span style=\"font-weight: bold\">)</span>  Gmb\n",
              "<span style=\"font-weight: bold\">(</span><span style=\"color: #008080; text-decoration-color: #008080; font-weight: bold\">0.26</span><span style=\"font-weight: bold\">)</span> ��\n",
              "<span style=\"font-weight: bold\">(</span><span style=\"color: #008080; text-decoration-color: #008080; font-weight: bold\">0.27</span><span style=\"font-weight: bold\">)</span> tocol\n",
              "<span style=\"font-weight: bold\">(</span><span style=\"color: #008080; text-decoration-color: #008080; font-weight: bold\">0.28</span><span style=\"font-weight: bold\">)</span> utative\n",
              "<span style=\"font-weight: bold\">(</span><span style=\"color: #008080; text-decoration-color: #008080; font-weight: bold\">0.28</span><span style=\"font-weight: bold\">)</span>  algorith\n",
              "<span style=\"font-weight: bold\">(</span><span style=\"color: #008080; text-decoration-color: #008080; font-weight: bold\">0.30</span><span style=\"font-weight: bold\">)</span> scious\n",
              "\n",
              "</pre>\n"
            ]
          },
          "metadata": {}
        },
        {
          "output_type": "stream",
          "name": "stdout",
          "text": [
            "\n",
            "Analyzing high-probability feature 1017:\n"
          ]
        },
        {
          "output_type": "display_data",
          "data": {
            "text/plain": [
              "\u001b[3m              Tokens which most activate this feature              \u001b[0m\n",
              "┏━━━━━━━━━━━━━━━━━━━━━━━━━━━━━━━━━━━━━━━━━━━━━━━━━━━━┳━━━━━━━━━━━━┓\n",
              "┃\u001b[1m \u001b[0m\u001b[1mSequence                                          \u001b[0m\u001b[1m \u001b[0m┃\u001b[1m \u001b[0m\u001b[1mActivation\u001b[0m\u001b[1m \u001b[0m┃\n",
              "┡━━━━━━━━━━━━━━━━━━━━━━━━━━━━━━━━━━━━━━━━━━━━━━━━━━━━╇━━━━━━━━━━━━┩\n",
              "│  and became provincial of his\u001b[1;4;38;5;208m order\u001b[0m in Ireland. In │ 26.09      │\n",
              "│  one\\n        # we\u001b[1;4;38;5;208m have\u001b[0m to do it after             │ 26.09      │\n",
              "│  live with the devil I\u001b[1;4;38;5;208m know\u001b[0m, so to speak           │ 25.54      │\n",
              "│  He is well-man\u001b[1;4;38;5;208mnered\u001b[0m.', 'positive'),               │ 25.49      │\n",
              "│  the tools that you gave\u001b[1;4;38;5;208m me\u001b[0m. When I see            │ 25.47      │\n",
              "│  can be your trustable\u001b[1;4;38;5;208m partner\u001b[0m and if someone is   │ 25.41      │\n",
              "│  I know, so to\u001b[1;4;38;5;208m speak\u001b[0m. Still, it                    │ 25.40      │\n",
              "│ , so I do it\u001b[1;4;38;5;208m again\u001b[0m (                               │ 25.38      │\n",
              "│  make an appeal, re\u001b[1;4;38;5;208mapplied\u001b[0m and was given a         │ 25.37      │\n",
              "│  salaries into our ceos\u001b[1;4;38;5;208m table\u001b[0m.\\nc.                 │ 25.27      │\n",
              "└────────────────────────────────────────────────────┴────────────┘\n"
            ],
            "text/html": [
              "<pre style=\"white-space:pre;overflow-x:auto;line-height:normal;font-family:Menlo,'DejaVu Sans Mono',consolas,'Courier New',monospace\"><span style=\"font-style: italic\">              Tokens which most activate this feature              </span>\n",
              "┏━━━━━━━━━━━━━━━━━━━━━━━━━━━━━━━━━━━━━━━━━━━━━━━━━━━━┳━━━━━━━━━━━━┓\n",
              "┃<span style=\"font-weight: bold\"> Sequence                                           </span>┃<span style=\"font-weight: bold\"> Activation </span>┃\n",
              "┡━━━━━━━━━━━━━━━━━━━━━━━━━━━━━━━━━━━━━━━━━━━━━━━━━━━━╇━━━━━━━━━━━━┩\n",
              "│  and became provincial of his<span style=\"color: #ff8700; text-decoration-color: #ff8700; font-weight: bold; text-decoration: underline\"> order</span> in Ireland. In │ 26.09      │\n",
              "│  one\\n        # we<span style=\"color: #ff8700; text-decoration-color: #ff8700; font-weight: bold; text-decoration: underline\"> have</span> to do it after             │ 26.09      │\n",
              "│  live with the devil I<span style=\"color: #ff8700; text-decoration-color: #ff8700; font-weight: bold; text-decoration: underline\"> know</span>, so to speak           │ 25.54      │\n",
              "│  He is well-man<span style=\"color: #ff8700; text-decoration-color: #ff8700; font-weight: bold; text-decoration: underline\">nered</span>.', 'positive'),               │ 25.49      │\n",
              "│  the tools that you gave<span style=\"color: #ff8700; text-decoration-color: #ff8700; font-weight: bold; text-decoration: underline\"> me</span>. When I see            │ 25.47      │\n",
              "│  can be your trustable<span style=\"color: #ff8700; text-decoration-color: #ff8700; font-weight: bold; text-decoration: underline\"> partner</span> and if someone is   │ 25.41      │\n",
              "│  I know, so to<span style=\"color: #ff8700; text-decoration-color: #ff8700; font-weight: bold; text-decoration: underline\"> speak</span>. Still, it                    │ 25.40      │\n",
              "│ , so I do it<span style=\"color: #ff8700; text-decoration-color: #ff8700; font-weight: bold; text-decoration: underline\"> again</span> (                               │ 25.38      │\n",
              "│  make an appeal, re<span style=\"color: #ff8700; text-decoration-color: #ff8700; font-weight: bold; text-decoration: underline\">applied</span> and was given a         │ 25.37      │\n",
              "│  salaries into our ceos<span style=\"color: #ff8700; text-decoration-color: #ff8700; font-weight: bold; text-decoration: underline\"> table</span>.\\nc.                 │ 25.27      │\n",
              "└────────────────────────────────────────────────────┴────────────┘\n",
              "</pre>\n"
            ]
          },
          "metadata": {}
        },
        {
          "output_type": "display_data",
          "data": {
            "text/plain": [
              "Top tokens:\n",
              "\u001b[1m(\u001b[0m\u001b[1;36m-0.01\u001b[0m\u001b[1m)\u001b[0m acebook\n",
              "\u001b[1m(\u001b[0m\u001b[1;36m-0.13\u001b[0m\u001b[1m)\u001b[0m opyright\n",
              "\u001b[1m(\u001b[0m\u001b[1;36m-0.14\u001b[0m\u001b[1m)\u001b[0m iscussion\n",
              "\u001b[1m(\u001b[0m\u001b[1;36m-0.15\u001b[0m\u001b[1m)\u001b[0m idopsis\n",
              "\u001b[1m(\u001b[0m\u001b[1;36m-0.16\u001b[0m\u001b[1m)\u001b[0m  LINEAR\n",
              "\u001b[1m(\u001b[0m\u001b[1;36m-0.17\u001b[0m\u001b[1m)\u001b[0m ariju\n",
              "\u001b[1m(\u001b[0m\u001b[1;36m-0.17\u001b[0m\u001b[1m)\u001b[0m icrosoft\n",
              "\u001b[1m(\u001b[0m\u001b[1;36m-0.17\u001b[0m\u001b[1m)\u001b[0m  Palestin\n",
              "\u001b[1m(\u001b[0m\u001b[1;36m-0.17\u001b[0m\u001b[1m)\u001b[0m  predecess\n",
              "\u001b[1m(\u001b[0m\u001b[1;36m-0.18\u001b[0m\u001b[1m)\u001b[0m bsy\n",
              "\n",
              "Bottom tokens:\n",
              "\u001b[1m(\u001b[0m\u001b[1;36m-1.04\u001b[0m\u001b[1m)\u001b[0m \n",
              "\n",
              "\u001b[1m(\u001b[0m\u001b[1;36m-1.01\u001b[0m\u001b[1m)\u001b[0m  \n",
              "\u001b[1m(\u001b[0m\u001b[1;36m-0.97\u001b[0m\u001b[1m)\u001b[0m  is\n",
              "\u001b[1m(\u001b[0m\u001b[1;36m-0.97\u001b[0m\u001b[1m)\u001b[0m in\n",
              "\u001b[1m(\u001b[0m\u001b[1;36m-0.97\u001b[0m\u001b[1m)\u001b[0m s\n",
              "\u001b[1m(\u001b[0m\u001b[1;36m-0.96\u001b[0m\u001b[1m)\u001b[0m  \u001b[1m(\u001b[0m\n",
              "\u001b[1m(\u001b[0m\u001b[1;36m-0.96\u001b[0m\u001b[1m)\u001b[0m  and\n",
              "\u001b[1m(\u001b[0m\u001b[1;36m-0.96\u001b[0m\u001b[1m)\u001b[0m  with\n",
              "\u001b[1m(\u001b[0m\u001b[1;36m-0.96\u001b[0m\u001b[1m)\u001b[0m  to\n",
              "\u001b[1m(\u001b[0m\u001b[1;36m-0.95\u001b[0m\u001b[1m)\u001b[0m to\n",
              "\n"
            ],
            "text/html": [
              "<pre style=\"white-space:pre;overflow-x:auto;line-height:normal;font-family:Menlo,'DejaVu Sans Mono',consolas,'Courier New',monospace\">Top tokens:\n",
              "<span style=\"font-weight: bold\">(</span><span style=\"color: #008080; text-decoration-color: #008080; font-weight: bold\">-0.01</span><span style=\"font-weight: bold\">)</span> acebook\n",
              "<span style=\"font-weight: bold\">(</span><span style=\"color: #008080; text-decoration-color: #008080; font-weight: bold\">-0.13</span><span style=\"font-weight: bold\">)</span> opyright\n",
              "<span style=\"font-weight: bold\">(</span><span style=\"color: #008080; text-decoration-color: #008080; font-weight: bold\">-0.14</span><span style=\"font-weight: bold\">)</span> iscussion\n",
              "<span style=\"font-weight: bold\">(</span><span style=\"color: #008080; text-decoration-color: #008080; font-weight: bold\">-0.15</span><span style=\"font-weight: bold\">)</span> idopsis\n",
              "<span style=\"font-weight: bold\">(</span><span style=\"color: #008080; text-decoration-color: #008080; font-weight: bold\">-0.16</span><span style=\"font-weight: bold\">)</span>  LINEAR\n",
              "<span style=\"font-weight: bold\">(</span><span style=\"color: #008080; text-decoration-color: #008080; font-weight: bold\">-0.17</span><span style=\"font-weight: bold\">)</span> ariju\n",
              "<span style=\"font-weight: bold\">(</span><span style=\"color: #008080; text-decoration-color: #008080; font-weight: bold\">-0.17</span><span style=\"font-weight: bold\">)</span> icrosoft\n",
              "<span style=\"font-weight: bold\">(</span><span style=\"color: #008080; text-decoration-color: #008080; font-weight: bold\">-0.17</span><span style=\"font-weight: bold\">)</span>  Palestin\n",
              "<span style=\"font-weight: bold\">(</span><span style=\"color: #008080; text-decoration-color: #008080; font-weight: bold\">-0.17</span><span style=\"font-weight: bold\">)</span>  predecess\n",
              "<span style=\"font-weight: bold\">(</span><span style=\"color: #008080; text-decoration-color: #008080; font-weight: bold\">-0.18</span><span style=\"font-weight: bold\">)</span> bsy\n",
              "\n",
              "Bottom tokens:\n",
              "<span style=\"font-weight: bold\">(</span><span style=\"color: #008080; text-decoration-color: #008080; font-weight: bold\">-1.04</span><span style=\"font-weight: bold\">)</span> \n",
              "\n",
              "<span style=\"font-weight: bold\">(</span><span style=\"color: #008080; text-decoration-color: #008080; font-weight: bold\">-1.01</span><span style=\"font-weight: bold\">)</span>  \n",
              "<span style=\"font-weight: bold\">(</span><span style=\"color: #008080; text-decoration-color: #008080; font-weight: bold\">-0.97</span><span style=\"font-weight: bold\">)</span>  is\n",
              "<span style=\"font-weight: bold\">(</span><span style=\"color: #008080; text-decoration-color: #008080; font-weight: bold\">-0.97</span><span style=\"font-weight: bold\">)</span> in\n",
              "<span style=\"font-weight: bold\">(</span><span style=\"color: #008080; text-decoration-color: #008080; font-weight: bold\">-0.97</span><span style=\"font-weight: bold\">)</span> s\n",
              "<span style=\"font-weight: bold\">(</span><span style=\"color: #008080; text-decoration-color: #008080; font-weight: bold\">-0.96</span><span style=\"font-weight: bold\">)</span>  <span style=\"font-weight: bold\">(</span>\n",
              "<span style=\"font-weight: bold\">(</span><span style=\"color: #008080; text-decoration-color: #008080; font-weight: bold\">-0.96</span><span style=\"font-weight: bold\">)</span>  and\n",
              "<span style=\"font-weight: bold\">(</span><span style=\"color: #008080; text-decoration-color: #008080; font-weight: bold\">-0.96</span><span style=\"font-weight: bold\">)</span>  with\n",
              "<span style=\"font-weight: bold\">(</span><span style=\"color: #008080; text-decoration-color: #008080; font-weight: bold\">-0.96</span><span style=\"font-weight: bold\">)</span>  to\n",
              "<span style=\"font-weight: bold\">(</span><span style=\"color: #008080; text-decoration-color: #008080; font-weight: bold\">-0.95</span><span style=\"font-weight: bold\">)</span> to\n",
              "\n",
              "</pre>\n"
            ]
          },
          "metadata": {}
        },
        {
          "output_type": "stream",
          "name": "stdout",
          "text": [
            "\n",
            "Analyzing high-probability feature 47:\n"
          ]
        },
        {
          "output_type": "display_data",
          "data": {
            "text/plain": [
              "\u001b[3m              Tokens which most activate this feature               \u001b[0m\n",
              "┏━━━━━━━━━━━━━━━━━━━━━━━━━━━━━━━━━━━━━━━━━━━━━━━━━━━━━┳━━━━━━━━━━━━┓\n",
              "┃\u001b[1m \u001b[0m\u001b[1mSequence                                           \u001b[0m\u001b[1m \u001b[0m┃\u001b[1m \u001b[0m\u001b[1mActivation\u001b[0m\u001b[1m \u001b[0m┃\n",
              "┡━━━━━━━━━━━━━━━━━━━━━━━━━━━━━━━━━━━━━━━━━━━━━━━━━━━━━╇━━━━━━━━━━━━┩\n",
              "│ <|endoftext|>\u001b[1;4;38;5;208m []\u001b[0m # file raw\\n                       │ 21.00      │\n",
              "│ \"\"\"\\n        from g\u001b[1;4;38;5;208mf\u001b[0m.gas.models                     │ 20.26      │\n",
              "│  is related to:\\n\u001b[1;4;38;5;208m        \u001b[0m1) withdrawal appointments │ 20.10      │\n",
              "│ .strip()\\n\\n            \u001b[1;4;38;5;208msv\u001b[0mcstr = \",\"                │ 20.01      │\n",
              "│ 0) * Tsun\u001b[1;4;38;5;208m**(\u001b[0m5.0/                                    │ 20.00      │\n",
              "│  84):\\n                                         for │ 19.90      │\n",
              "│ \u001b[1;4;38;5;208me\u001b[0m in range(len                                      │            │\n",
              "│ en',M=\"4\u001b[1;4;38;5;208m/\u001b[0m4\",transpose                               │ 19.88      │\n",
              "│ \\n            errs =\u001b[1;4;38;5;208m et\u001b[0mrain + np.                   │ 19.78      │\n",
              "│ emink <swke\u001b[1;4;38;5;208mem\u001b[0mink@scim                               │ 19.61      │\n",
              "│ .mechanism =\u001b[1;4;38;5;208m me\u001b[0mcha.mechan                           │ 19.60      │\n",
              "└─────────────────────────────────────────────────────┴────────────┘\n"
            ],
            "text/html": [
              "<pre style=\"white-space:pre;overflow-x:auto;line-height:normal;font-family:Menlo,'DejaVu Sans Mono',consolas,'Courier New',monospace\"><span style=\"font-style: italic\">              Tokens which most activate this feature               </span>\n",
              "┏━━━━━━━━━━━━━━━━━━━━━━━━━━━━━━━━━━━━━━━━━━━━━━━━━━━━━┳━━━━━━━━━━━━┓\n",
              "┃<span style=\"font-weight: bold\"> Sequence                                            </span>┃<span style=\"font-weight: bold\"> Activation </span>┃\n",
              "┡━━━━━━━━━━━━━━━━━━━━━━━━━━━━━━━━━━━━━━━━━━━━━━━━━━━━━╇━━━━━━━━━━━━┩\n",
              "│ &lt;|endoftext|&gt;<span style=\"color: #ff8700; text-decoration-color: #ff8700; font-weight: bold; text-decoration: underline\"> []</span> # file raw\\n                       │ 21.00      │\n",
              "│ \"\"\"\\n        from g<span style=\"color: #ff8700; text-decoration-color: #ff8700; font-weight: bold; text-decoration: underline\">f</span>.gas.models                     │ 20.26      │\n",
              "│  is related to:\\n<span style=\"color: #ff8700; text-decoration-color: #ff8700; font-weight: bold; text-decoration: underline\">        </span>1) withdrawal appointments │ 20.10      │\n",
              "│ .strip()\\n\\n            <span style=\"color: #ff8700; text-decoration-color: #ff8700; font-weight: bold; text-decoration: underline\">sv</span>cstr = \",\"                │ 20.01      │\n",
              "│ 0) * Tsun<span style=\"color: #ff8700; text-decoration-color: #ff8700; font-weight: bold; text-decoration: underline\">**(</span>5.0/                                    │ 20.00      │\n",
              "│  84):\\n                                         for │ 19.90      │\n",
              "│ <span style=\"color: #ff8700; text-decoration-color: #ff8700; font-weight: bold; text-decoration: underline\">e</span> in range(len                                      │            │\n",
              "│ en',M=\"4<span style=\"color: #ff8700; text-decoration-color: #ff8700; font-weight: bold; text-decoration: underline\">/</span>4\",transpose                               │ 19.88      │\n",
              "│ \\n            errs =<span style=\"color: #ff8700; text-decoration-color: #ff8700; font-weight: bold; text-decoration: underline\"> et</span>rain + np.                   │ 19.78      │\n",
              "│ emink &lt;swke<span style=\"color: #ff8700; text-decoration-color: #ff8700; font-weight: bold; text-decoration: underline\">em</span>ink@scim                               │ 19.61      │\n",
              "│ .mechanism =<span style=\"color: #ff8700; text-decoration-color: #ff8700; font-weight: bold; text-decoration: underline\"> me</span>cha.mechan                           │ 19.60      │\n",
              "└─────────────────────────────────────────────────────┴────────────┘\n",
              "</pre>\n"
            ]
          },
          "metadata": {}
        },
        {
          "output_type": "display_data",
          "data": {
            "text/plain": [
              "Top tokens:\n",
              "\u001b[1m(\u001b[0m\u001b[1;36m-0.78\u001b[0m\u001b[1m)\u001b[0m -\n",
              "\u001b[1m(\u001b[0m\u001b[1;36m-0.79\u001b[0m\u001b[1m)\u001b[0m the\n",
              "\u001b[1m(\u001b[0m\u001b[1;36m-0.80\u001b[0m\u001b[1m)\u001b[0m \u001b[35m/\u001b[0m\n",
              "\u001b[1m(\u001b[0m\u001b[1;36m-0.81\u001b[0m\u001b[1m)\u001b[0m in\n",
              "\u001b[1m(\u001b[0m\u001b[1;36m-0.81\u001b[0m\u001b[1m)\u001b[0m  the\n",
              "\u001b[1m(\u001b[0m\u001b[1;36m-0.81\u001b[0m\u001b[1m)\u001b[0m I\n",
              "\u001b[1m(\u001b[0m\u001b[1;36m-0.81\u001b[0m\u001b[1m)\u001b[0m to\n",
              "\u001b[1m(\u001b[0m\u001b[1;36m-0.81\u001b[0m\u001b[1m)\u001b[0m  I\n",
              "\u001b[1m(\u001b[0m\u001b[1;36m-0.81\u001b[0m\u001b[1m)\u001b[0m .\n",
              "\u001b[1m(\u001b[0m\u001b[1;36m-0.81\u001b[0m\u001b[1m)\u001b[0m \u001b[1;36m1\u001b[0m\n",
              "\n",
              "Bottom tokens:\n",
              "\u001b[1m(\u001b[0m\u001b[1;36m-1.24\u001b[0m\u001b[1m)\u001b[0m acebook\n",
              "\u001b[1m(\u001b[0m\u001b[1;36m-1.20\u001b[0m\u001b[1m)\u001b[0m  entreprene\n",
              "\u001b[1m(\u001b[0m\u001b[1;36m-1.19\u001b[0m\u001b[1m)\u001b[0m  Palestin\n",
              "\u001b[1m(\u001b[0m\u001b[1;36m-1.19\u001b[0m\u001b[1m)\u001b[0m  triglycer\n",
              "\u001b[1m(\u001b[0m\u001b[1;36m-1.18\u001b[0m\u001b[1m)\u001b[0m \u001b[1;36m14514\u001b[0m\n",
              "\u001b[1m(\u001b[0m\u001b[1;36m-1.18\u001b[0m\u001b[1m)\u001b[0m izontal\n",
              "\u001b[1m(\u001b[0m\u001b[1;36m-1.17\u001b[0m\u001b[1m)\u001b[0m  \u001b[35m/\u001b[0m*!\n",
              "\u001b[1m(\u001b[0m\u001b[1;36m-1.17\u001b[0m\u001b[1m)\u001b[0m PDATE\n",
              "\u001b[1m(\u001b[0m\u001b[1;36m-1.17\u001b[0m\u001b[1m)\u001b[0m opyright\n",
              "\u001b[1m(\u001b[0m\u001b[1;36m-1.17\u001b[0m\u001b[1m)\u001b[0m  questionna\n",
              "\n"
            ],
            "text/html": [
              "<pre style=\"white-space:pre;overflow-x:auto;line-height:normal;font-family:Menlo,'DejaVu Sans Mono',consolas,'Courier New',monospace\">Top tokens:\n",
              "<span style=\"font-weight: bold\">(</span><span style=\"color: #008080; text-decoration-color: #008080; font-weight: bold\">-0.78</span><span style=\"font-weight: bold\">)</span> -\n",
              "<span style=\"font-weight: bold\">(</span><span style=\"color: #008080; text-decoration-color: #008080; font-weight: bold\">-0.79</span><span style=\"font-weight: bold\">)</span> the\n",
              "<span style=\"font-weight: bold\">(</span><span style=\"color: #008080; text-decoration-color: #008080; font-weight: bold\">-0.80</span><span style=\"font-weight: bold\">)</span> <span style=\"color: #800080; text-decoration-color: #800080\">/</span>\n",
              "<span style=\"font-weight: bold\">(</span><span style=\"color: #008080; text-decoration-color: #008080; font-weight: bold\">-0.81</span><span style=\"font-weight: bold\">)</span> in\n",
              "<span style=\"font-weight: bold\">(</span><span style=\"color: #008080; text-decoration-color: #008080; font-weight: bold\">-0.81</span><span style=\"font-weight: bold\">)</span>  the\n",
              "<span style=\"font-weight: bold\">(</span><span style=\"color: #008080; text-decoration-color: #008080; font-weight: bold\">-0.81</span><span style=\"font-weight: bold\">)</span> I\n",
              "<span style=\"font-weight: bold\">(</span><span style=\"color: #008080; text-decoration-color: #008080; font-weight: bold\">-0.81</span><span style=\"font-weight: bold\">)</span> to\n",
              "<span style=\"font-weight: bold\">(</span><span style=\"color: #008080; text-decoration-color: #008080; font-weight: bold\">-0.81</span><span style=\"font-weight: bold\">)</span>  I\n",
              "<span style=\"font-weight: bold\">(</span><span style=\"color: #008080; text-decoration-color: #008080; font-weight: bold\">-0.81</span><span style=\"font-weight: bold\">)</span> .\n",
              "<span style=\"font-weight: bold\">(</span><span style=\"color: #008080; text-decoration-color: #008080; font-weight: bold\">-0.81</span><span style=\"font-weight: bold\">)</span> <span style=\"color: #008080; text-decoration-color: #008080; font-weight: bold\">1</span>\n",
              "\n",
              "Bottom tokens:\n",
              "<span style=\"font-weight: bold\">(</span><span style=\"color: #008080; text-decoration-color: #008080; font-weight: bold\">-1.24</span><span style=\"font-weight: bold\">)</span> acebook\n",
              "<span style=\"font-weight: bold\">(</span><span style=\"color: #008080; text-decoration-color: #008080; font-weight: bold\">-1.20</span><span style=\"font-weight: bold\">)</span>  entreprene\n",
              "<span style=\"font-weight: bold\">(</span><span style=\"color: #008080; text-decoration-color: #008080; font-weight: bold\">-1.19</span><span style=\"font-weight: bold\">)</span>  Palestin\n",
              "<span style=\"font-weight: bold\">(</span><span style=\"color: #008080; text-decoration-color: #008080; font-weight: bold\">-1.19</span><span style=\"font-weight: bold\">)</span>  triglycer\n",
              "<span style=\"font-weight: bold\">(</span><span style=\"color: #008080; text-decoration-color: #008080; font-weight: bold\">-1.18</span><span style=\"font-weight: bold\">)</span> <span style=\"color: #008080; text-decoration-color: #008080; font-weight: bold\">14514</span>\n",
              "<span style=\"font-weight: bold\">(</span><span style=\"color: #008080; text-decoration-color: #008080; font-weight: bold\">-1.18</span><span style=\"font-weight: bold\">)</span> izontal\n",
              "<span style=\"font-weight: bold\">(</span><span style=\"color: #008080; text-decoration-color: #008080; font-weight: bold\">-1.17</span><span style=\"font-weight: bold\">)</span>  <span style=\"color: #800080; text-decoration-color: #800080\">/</span>*!\n",
              "<span style=\"font-weight: bold\">(</span><span style=\"color: #008080; text-decoration-color: #008080; font-weight: bold\">-1.17</span><span style=\"font-weight: bold\">)</span> PDATE\n",
              "<span style=\"font-weight: bold\">(</span><span style=\"color: #008080; text-decoration-color: #008080; font-weight: bold\">-1.17</span><span style=\"font-weight: bold\">)</span> opyright\n",
              "<span style=\"font-weight: bold\">(</span><span style=\"color: #008080; text-decoration-color: #008080; font-weight: bold\">-1.17</span><span style=\"font-weight: bold\">)</span>  questionna\n",
              "\n",
              "</pre>\n"
            ]
          },
          "metadata": {}
        },
        {
          "output_type": "stream",
          "name": "stdout",
          "text": [
            "\n",
            "Analyzing high-probability feature 90:\n"
          ]
        },
        {
          "output_type": "display_data",
          "data": {
            "text/plain": [
              "\u001b[3m                Tokens which most activate this feature                 \u001b[0m\n",
              "┏━━━━━━━━━━━━━━━━━━━━━━━━━━━━━━━━━━━━━━━━━━━━━━━━━━━━━━━━━┳━━━━━━━━━━━━┓\n",
              "┃\u001b[1m \u001b[0m\u001b[1mSequence                                               \u001b[0m\u001b[1m \u001b[0m┃\u001b[1m \u001b[0m\u001b[1mActivation\u001b[0m\u001b[1m \u001b[0m┃\n",
              "┡━━━━━━━━━━━━━━━━━━━━━━━━━━━━━━━━━━━━━━━━━━━━━━━━━━━━━━━━━╇━━━━━━━━━━━━┩\n",
              "│ ))\\n                    remote_\u001b[1;4;38;5;208mvarn\u001b[0mames.append(         │ 19.20      │\n",
              "│  None\\n\\n        # allow\u001b[1;4;38;5;208m migr\u001b[0mations for ContentDatabase │ 17.45      │\n",
              "│     # for f in\u001b[1;4;38;5;208m fil\u001b[0menames:\\n                             │ 16.95      │\n",
              "│  an assignment, he always\u001b[1;4;38;5;208m equ\u001b[0mips us with what           │ 16.76      │\n",
              "│ # for f in fil\u001b[1;4;38;5;208men\u001b[0mames:\\n                                 │ 16.58      │\n",
              "│ no_employee_registration\u001b[1;4;38;5;208m_\u001b[0mids')\\n                        │ 16.53      │\n",
              "│ to': \"orm['\u001b[1;4;38;5;208mcycl\u001b[0mope.Author']                             │ 16.43      │\n",
              "│ ._collected_hw\u001b[1;4;38;5;208m_\u001b[0minfo:\\n                                  │ 16.37      │\n",
              "│ filters = options.dev\u001b[1;4;38;5;208m_\u001b[0mfilters or ['ATTR                 │ 16.03      │\n",
              "│ _ctx.split_\u001b[1;4;38;5;208mvarn\u001b[0mames())):\\n                              │ 16.01      │\n",
              "└─────────────────────────────────────────────────────────┴────────────┘\n"
            ],
            "text/html": [
              "<pre style=\"white-space:pre;overflow-x:auto;line-height:normal;font-family:Menlo,'DejaVu Sans Mono',consolas,'Courier New',monospace\"><span style=\"font-style: italic\">                Tokens which most activate this feature                 </span>\n",
              "┏━━━━━━━━━━━━━━━━━━━━━━━━━━━━━━━━━━━━━━━━━━━━━━━━━━━━━━━━━┳━━━━━━━━━━━━┓\n",
              "┃<span style=\"font-weight: bold\"> Sequence                                                </span>┃<span style=\"font-weight: bold\"> Activation </span>┃\n",
              "┡━━━━━━━━━━━━━━━━━━━━━━━━━━━━━━━━━━━━━━━━━━━━━━━━━━━━━━━━━╇━━━━━━━━━━━━┩\n",
              "│ ))\\n                    remote_<span style=\"color: #ff8700; text-decoration-color: #ff8700; font-weight: bold; text-decoration: underline\">varn</span>ames.append(         │ 19.20      │\n",
              "│  None\\n\\n        # allow<span style=\"color: #ff8700; text-decoration-color: #ff8700; font-weight: bold; text-decoration: underline\"> migr</span>ations for ContentDatabase │ 17.45      │\n",
              "│     # for f in<span style=\"color: #ff8700; text-decoration-color: #ff8700; font-weight: bold; text-decoration: underline\"> fil</span>enames:\\n                             │ 16.95      │\n",
              "│  an assignment, he always<span style=\"color: #ff8700; text-decoration-color: #ff8700; font-weight: bold; text-decoration: underline\"> equ</span>ips us with what           │ 16.76      │\n",
              "│ # for f in fil<span style=\"color: #ff8700; text-decoration-color: #ff8700; font-weight: bold; text-decoration: underline\">en</span>ames:\\n                                 │ 16.58      │\n",
              "│ no_employee_registration<span style=\"color: #ff8700; text-decoration-color: #ff8700; font-weight: bold; text-decoration: underline\">_</span>ids')\\n                        │ 16.53      │\n",
              "│ to': \"orm['<span style=\"color: #ff8700; text-decoration-color: #ff8700; font-weight: bold; text-decoration: underline\">cycl</span>ope.Author']                             │ 16.43      │\n",
              "│ ._collected_hw<span style=\"color: #ff8700; text-decoration-color: #ff8700; font-weight: bold; text-decoration: underline\">_</span>info:\\n                                  │ 16.37      │\n",
              "│ filters = options.dev<span style=\"color: #ff8700; text-decoration-color: #ff8700; font-weight: bold; text-decoration: underline\">_</span>filters or ['ATTR                 │ 16.03      │\n",
              "│ _ctx.split_<span style=\"color: #ff8700; text-decoration-color: #ff8700; font-weight: bold; text-decoration: underline\">varn</span>ames())):\\n                              │ 16.01      │\n",
              "└─────────────────────────────────────────────────────────┴────────────┘\n",
              "</pre>\n"
            ]
          },
          "metadata": {}
        },
        {
          "output_type": "display_data",
          "data": {
            "text/plain": [
              "Top tokens:\n",
              "\u001b[1m(\u001b[0m\u001b[1;36m0.15\u001b[0m\u001b[1m)\u001b[0m oids\n",
              "\u001b[1m(\u001b[0m\u001b[1;36m0.14\u001b[0m\u001b[1m)\u001b[0m ists\n",
              "\u001b[1m(\u001b[0m\u001b[1;36m0.13\u001b[0m\u001b[1m)\u001b[0m iations\n",
              "\u001b[1m(\u001b[0m\u001b[1;36m0.13\u001b[0m\u001b[1m)\u001b[0m idences\n",
              "\u001b[1m(\u001b[0m\u001b[1;36m0.12\u001b[0m\u001b[1m)\u001b[0m ials\n",
              "\u001b[1m(\u001b[0m\u001b[1;36m0.12\u001b[0m\u001b[1m)\u001b[0m idents\n",
              "\u001b[1m(\u001b[0m\u001b[1;36m0.12\u001b[0m\u001b[1m)\u001b[0m ies\n",
              "\u001b[1m(\u001b[0m\u001b[1;36m0.12\u001b[0m\u001b[1m)\u001b[0m ators\n",
              "\u001b[1m(\u001b[0m\u001b[1;36m0.12\u001b[0m\u001b[1m)\u001b[0m ites\n",
              "\u001b[1m(\u001b[0m\u001b[1;36m0.11\u001b[0m\u001b[1m)\u001b[0m orphisms\n",
              "\n",
              "Bottom tokens:\n",
              "\u001b[1m(\u001b[0m\u001b[1;36m-0.44\u001b[0m\u001b[1m)\u001b[0m  Leban\n",
              "\u001b[1m(\u001b[0m\u001b[1;36m-0.41\u001b[0m\u001b[1m)\u001b[0m CHANTABILITY\n",
              "\u001b[1m(\u001b[0m\u001b[1;36m-0.39\u001b[0m\u001b[1m)\u001b[0m uvant\n",
              "\u001b[1m(\u001b[0m\u001b[1;36m-0.37\u001b[0m\u001b[1m)\u001b[0m CUSS\n",
              "\u001b[1m(\u001b[0m\u001b[1;36m-0.37\u001b[0m\u001b[1m)\u001b[0m �\n",
              "\u001b[1m(\u001b[0m\u001b[1;36m-0.37\u001b[0m\u001b[1m)\u001b[0m  CURI\n",
              "\u001b[1m(\u001b[0m\u001b[1;36m-0.37\u001b[0m\u001b[1m)\u001b[0m oddsidemargin\n",
              "\u001b[1m(\u001b[0m\u001b[1;36m-0.37\u001b[0m\u001b[1m)\u001b[0m  triglycer\n",
              "\u001b[1m(\u001b[0m\u001b[1;36m-0.36\u001b[0m\u001b[1m)\u001b[0m ALSE\n",
              "\u001b[1m(\u001b[0m\u001b[1;36m-0.36\u001b[0m\u001b[1m)\u001b[0m  doxor\n",
              "\n"
            ],
            "text/html": [
              "<pre style=\"white-space:pre;overflow-x:auto;line-height:normal;font-family:Menlo,'DejaVu Sans Mono',consolas,'Courier New',monospace\">Top tokens:\n",
              "<span style=\"font-weight: bold\">(</span><span style=\"color: #008080; text-decoration-color: #008080; font-weight: bold\">0.15</span><span style=\"font-weight: bold\">)</span> oids\n",
              "<span style=\"font-weight: bold\">(</span><span style=\"color: #008080; text-decoration-color: #008080; font-weight: bold\">0.14</span><span style=\"font-weight: bold\">)</span> ists\n",
              "<span style=\"font-weight: bold\">(</span><span style=\"color: #008080; text-decoration-color: #008080; font-weight: bold\">0.13</span><span style=\"font-weight: bold\">)</span> iations\n",
              "<span style=\"font-weight: bold\">(</span><span style=\"color: #008080; text-decoration-color: #008080; font-weight: bold\">0.13</span><span style=\"font-weight: bold\">)</span> idences\n",
              "<span style=\"font-weight: bold\">(</span><span style=\"color: #008080; text-decoration-color: #008080; font-weight: bold\">0.12</span><span style=\"font-weight: bold\">)</span> ials\n",
              "<span style=\"font-weight: bold\">(</span><span style=\"color: #008080; text-decoration-color: #008080; font-weight: bold\">0.12</span><span style=\"font-weight: bold\">)</span> idents\n",
              "<span style=\"font-weight: bold\">(</span><span style=\"color: #008080; text-decoration-color: #008080; font-weight: bold\">0.12</span><span style=\"font-weight: bold\">)</span> ies\n",
              "<span style=\"font-weight: bold\">(</span><span style=\"color: #008080; text-decoration-color: #008080; font-weight: bold\">0.12</span><span style=\"font-weight: bold\">)</span> ators\n",
              "<span style=\"font-weight: bold\">(</span><span style=\"color: #008080; text-decoration-color: #008080; font-weight: bold\">0.12</span><span style=\"font-weight: bold\">)</span> ites\n",
              "<span style=\"font-weight: bold\">(</span><span style=\"color: #008080; text-decoration-color: #008080; font-weight: bold\">0.11</span><span style=\"font-weight: bold\">)</span> orphisms\n",
              "\n",
              "Bottom tokens:\n",
              "<span style=\"font-weight: bold\">(</span><span style=\"color: #008080; text-decoration-color: #008080; font-weight: bold\">-0.44</span><span style=\"font-weight: bold\">)</span>  Leban\n",
              "<span style=\"font-weight: bold\">(</span><span style=\"color: #008080; text-decoration-color: #008080; font-weight: bold\">-0.41</span><span style=\"font-weight: bold\">)</span> CHANTABILITY\n",
              "<span style=\"font-weight: bold\">(</span><span style=\"color: #008080; text-decoration-color: #008080; font-weight: bold\">-0.39</span><span style=\"font-weight: bold\">)</span> uvant\n",
              "<span style=\"font-weight: bold\">(</span><span style=\"color: #008080; text-decoration-color: #008080; font-weight: bold\">-0.37</span><span style=\"font-weight: bold\">)</span> CUSS\n",
              "<span style=\"font-weight: bold\">(</span><span style=\"color: #008080; text-decoration-color: #008080; font-weight: bold\">-0.37</span><span style=\"font-weight: bold\">)</span> �\n",
              "<span style=\"font-weight: bold\">(</span><span style=\"color: #008080; text-decoration-color: #008080; font-weight: bold\">-0.37</span><span style=\"font-weight: bold\">)</span>  CURI\n",
              "<span style=\"font-weight: bold\">(</span><span style=\"color: #008080; text-decoration-color: #008080; font-weight: bold\">-0.37</span><span style=\"font-weight: bold\">)</span> oddsidemargin\n",
              "<span style=\"font-weight: bold\">(</span><span style=\"color: #008080; text-decoration-color: #008080; font-weight: bold\">-0.37</span><span style=\"font-weight: bold\">)</span>  triglycer\n",
              "<span style=\"font-weight: bold\">(</span><span style=\"color: #008080; text-decoration-color: #008080; font-weight: bold\">-0.36</span><span style=\"font-weight: bold\">)</span> ALSE\n",
              "<span style=\"font-weight: bold\">(</span><span style=\"color: #008080; text-decoration-color: #008080; font-weight: bold\">-0.36</span><span style=\"font-weight: bold\">)</span>  doxor\n",
              "\n",
              "</pre>\n"
            ]
          },
          "metadata": {}
        },
        {
          "output_type": "stream",
          "name": "stdout",
          "text": [
            "\n",
            "Analyzing high-probability feature 1253:\n"
          ]
        },
        {
          "output_type": "display_data",
          "data": {
            "text/plain": [
              "\u001b[3m               Tokens which most activate this feature               \u001b[0m\n",
              "┏━━━━━━━━━━━━━━━━━━━━━━━━━━━━━━━━━━━━━━━━━━━━━━━━━━━━━━┳━━━━━━━━━━━━┓\n",
              "┃\u001b[1m \u001b[0m\u001b[1mSequence                                            \u001b[0m\u001b[1m \u001b[0m┃\u001b[1m \u001b[0m\u001b[1mActivation\u001b[0m\u001b[1m \u001b[0m┃\n",
              "┡━━━━━━━━━━━━━━━━━━━━━━━━━━━━━━━━━━━━━━━━━━━━━━━━━━━━━━╇━━━━━━━━━━━━┩\n",
              "│ self.last_update\u001b[1;4;38;5;208m =\u001b[0m None\\n        logging             │ 22.85      │\n",
              "│ rtime = time()\u001b[1;4;38;5;208m +\u001b[0m self.reload_                        │ 22.70      │\n",
              "│ self.last_update\u001b[1;4;38;5;208m =\u001b[0m entry.mtime                       │ 22.61      │\n",
              "│ :\\n            for fn\u001b[1;4;38;5;208m in\u001b[0m self.dispatch.              │ 22.58      │\n",
              "│         self._rtime\u001b[1;4;38;5;208m =\u001b[0m time() + self                  │ 22.47      │\n",
              "│         delivery_ctx\u001b[1;4;38;5;208m =\u001b[0m dict(context,                 │ 22.28      │\n",
              "│ get_required_content\u001b[1;4;38;5;208m',\u001b[0m Mock(return_                  │ 22.18      │\n",
              "│ _products:\\n            \u001b[1;4;38;5;208mreturn\u001b[0m values\\n\\n        del │ 22.15      │\n",
              "│ (self):\\n    \u001b[1;4;38;5;208mwith\u001b[0m self.test_                         │ 22.07      │\n",
              "│ code == 200\\n\\n\\n\u001b[1;4;38;5;208mdef\u001b[0m test_roles                      │ 22.00      │\n",
              "└──────────────────────────────────────────────────────┴────────────┘\n"
            ],
            "text/html": [
              "<pre style=\"white-space:pre;overflow-x:auto;line-height:normal;font-family:Menlo,'DejaVu Sans Mono',consolas,'Courier New',monospace\"><span style=\"font-style: italic\">               Tokens which most activate this feature               </span>\n",
              "┏━━━━━━━━━━━━━━━━━━━━━━━━━━━━━━━━━━━━━━━━━━━━━━━━━━━━━━┳━━━━━━━━━━━━┓\n",
              "┃<span style=\"font-weight: bold\"> Sequence                                             </span>┃<span style=\"font-weight: bold\"> Activation </span>┃\n",
              "┡━━━━━━━━━━━━━━━━━━━━━━━━━━━━━━━━━━━━━━━━━━━━━━━━━━━━━━╇━━━━━━━━━━━━┩\n",
              "│ self.last_update<span style=\"color: #ff8700; text-decoration-color: #ff8700; font-weight: bold; text-decoration: underline\"> =</span> None\\n        logging             │ 22.85      │\n",
              "│ rtime = time()<span style=\"color: #ff8700; text-decoration-color: #ff8700; font-weight: bold; text-decoration: underline\"> +</span> self.reload_                        │ 22.70      │\n",
              "│ self.last_update<span style=\"color: #ff8700; text-decoration-color: #ff8700; font-weight: bold; text-decoration: underline\"> =</span> entry.mtime                       │ 22.61      │\n",
              "│ :\\n            for fn<span style=\"color: #ff8700; text-decoration-color: #ff8700; font-weight: bold; text-decoration: underline\"> in</span> self.dispatch.              │ 22.58      │\n",
              "│         self._rtime<span style=\"color: #ff8700; text-decoration-color: #ff8700; font-weight: bold; text-decoration: underline\"> =</span> time() + self                  │ 22.47      │\n",
              "│         delivery_ctx<span style=\"color: #ff8700; text-decoration-color: #ff8700; font-weight: bold; text-decoration: underline\"> =</span> dict(context,                 │ 22.28      │\n",
              "│ get_required_content<span style=\"color: #ff8700; text-decoration-color: #ff8700; font-weight: bold; text-decoration: underline\">',</span> Mock(return_                  │ 22.18      │\n",
              "│ _products:\\n            <span style=\"color: #ff8700; text-decoration-color: #ff8700; font-weight: bold; text-decoration: underline\">return</span> values\\n\\n        del │ 22.15      │\n",
              "│ (self):\\n    <span style=\"color: #ff8700; text-decoration-color: #ff8700; font-weight: bold; text-decoration: underline\">with</span> self.test_                         │ 22.07      │\n",
              "│ code == 200\\n\\n\\n<span style=\"color: #ff8700; text-decoration-color: #ff8700; font-weight: bold; text-decoration: underline\">def</span> test_roles                      │ 22.00      │\n",
              "└──────────────────────────────────────────────────────┴────────────┘\n",
              "</pre>\n"
            ]
          },
          "metadata": {}
        },
        {
          "output_type": "display_data",
          "data": {
            "text/plain": [
              "Top tokens:\n",
              "\u001b[1m(\u001b[0m\u001b[1;36m-0.61\u001b[0m\u001b[1m)\u001b[0m \u001b[35m/\u001b[0m\n",
              "\u001b[1m(\u001b[0m\u001b[1;36m-0.61\u001b[0m\u001b[1m)\u001b[0m \n",
              "\n",
              "\u001b[1m(\u001b[0m\u001b[1;36m-0.61\u001b[0m\u001b[1m)\u001b[0m -\n",
              "\u001b[1m(\u001b[0m\u001b[1;36m-0.62\u001b[0m\u001b[1m)\u001b[0m  \u001b[1;36m1\u001b[0m\n",
              "\u001b[1m(\u001b[0m\u001b[1;36m-0.62\u001b[0m\u001b[1m)\u001b[0m  \u001b[1;36m2\u001b[0m\n",
              "\u001b[1m(\u001b[0m\u001b[1;36m-0.62\u001b[0m\u001b[1m)\u001b[0m  -\n",
              "\u001b[1m(\u001b[0m\u001b[1;36m-0.62\u001b[0m\u001b[1m)\u001b[0m  \u001b[1;36m3\u001b[0m\n",
              "\u001b[1m(\u001b[0m\u001b[1;36m-0.63\u001b[0m\u001b[1m)\u001b[0m  \u001b[1;36m12\u001b[0m\n",
              "\u001b[1m(\u001b[0m\u001b[1;36m-0.63\u001b[0m\u001b[1m)\u001b[0m  \u001b[1;36m10\u001b[0m\n",
              "\u001b[1m(\u001b[0m\u001b[1;36m-0.63\u001b[0m\u001b[1m)\u001b[0m  \u001b[1;36m5\u001b[0m\n",
              "\n",
              "Bottom tokens:\n",
              "\u001b[1m(\u001b[0m\u001b[1;36m-1.08\u001b[0m\u001b[1m)\u001b[0m  cryptocur\n",
              "\u001b[1m(\u001b[0m\u001b[1;36m-1.07\u001b[0m\u001b[1m)\u001b[0m  Leban\n",
              "\u001b[1m(\u001b[0m\u001b[1;36m-1.05\u001b[0m\u001b[1m)\u001b[0m ÃÂ\n",
              "\u001b[1m(\u001b[0m\u001b[1;36m-1.04\u001b[0m\u001b[1m)\u001b[0m aukee\n",
              "\u001b[1m(\u001b[0m\u001b[1;36m-1.04\u001b[0m\u001b[1m)\u001b[0m pendicular\n",
              "\u001b[1m(\u001b[0m\u001b[1;36m-1.04\u001b[0m\u001b[1m)\u001b[0m ��\n",
              "\u001b[1m(\u001b[0m\u001b[1;36m-1.04\u001b[0m\u001b[1m)\u001b[0m avorable\n",
              "\u001b[1m(\u001b[0m\u001b[1;36m-1.03\u001b[0m\u001b[1m)\u001b[0m debted\n",
              "\u001b[1m(\u001b[0m\u001b[1;36m-1.03\u001b[0m\u001b[1m)\u001b[0m PtrFromString\n",
              "\u001b[1m(\u001b[0m\u001b[1;36m-1.02\u001b[0m\u001b[1m)\u001b[0m ellee\n",
              "\n"
            ],
            "text/html": [
              "<pre style=\"white-space:pre;overflow-x:auto;line-height:normal;font-family:Menlo,'DejaVu Sans Mono',consolas,'Courier New',monospace\">Top tokens:\n",
              "<span style=\"font-weight: bold\">(</span><span style=\"color: #008080; text-decoration-color: #008080; font-weight: bold\">-0.61</span><span style=\"font-weight: bold\">)</span> <span style=\"color: #800080; text-decoration-color: #800080\">/</span>\n",
              "<span style=\"font-weight: bold\">(</span><span style=\"color: #008080; text-decoration-color: #008080; font-weight: bold\">-0.61</span><span style=\"font-weight: bold\">)</span> \n",
              "\n",
              "<span style=\"font-weight: bold\">(</span><span style=\"color: #008080; text-decoration-color: #008080; font-weight: bold\">-0.61</span><span style=\"font-weight: bold\">)</span> -\n",
              "<span style=\"font-weight: bold\">(</span><span style=\"color: #008080; text-decoration-color: #008080; font-weight: bold\">-0.62</span><span style=\"font-weight: bold\">)</span>  <span style=\"color: #008080; text-decoration-color: #008080; font-weight: bold\">1</span>\n",
              "<span style=\"font-weight: bold\">(</span><span style=\"color: #008080; text-decoration-color: #008080; font-weight: bold\">-0.62</span><span style=\"font-weight: bold\">)</span>  <span style=\"color: #008080; text-decoration-color: #008080; font-weight: bold\">2</span>\n",
              "<span style=\"font-weight: bold\">(</span><span style=\"color: #008080; text-decoration-color: #008080; font-weight: bold\">-0.62</span><span style=\"font-weight: bold\">)</span>  -\n",
              "<span style=\"font-weight: bold\">(</span><span style=\"color: #008080; text-decoration-color: #008080; font-weight: bold\">-0.62</span><span style=\"font-weight: bold\">)</span>  <span style=\"color: #008080; text-decoration-color: #008080; font-weight: bold\">3</span>\n",
              "<span style=\"font-weight: bold\">(</span><span style=\"color: #008080; text-decoration-color: #008080; font-weight: bold\">-0.63</span><span style=\"font-weight: bold\">)</span>  <span style=\"color: #008080; text-decoration-color: #008080; font-weight: bold\">12</span>\n",
              "<span style=\"font-weight: bold\">(</span><span style=\"color: #008080; text-decoration-color: #008080; font-weight: bold\">-0.63</span><span style=\"font-weight: bold\">)</span>  <span style=\"color: #008080; text-decoration-color: #008080; font-weight: bold\">10</span>\n",
              "<span style=\"font-weight: bold\">(</span><span style=\"color: #008080; text-decoration-color: #008080; font-weight: bold\">-0.63</span><span style=\"font-weight: bold\">)</span>  <span style=\"color: #008080; text-decoration-color: #008080; font-weight: bold\">5</span>\n",
              "\n",
              "Bottom tokens:\n",
              "<span style=\"font-weight: bold\">(</span><span style=\"color: #008080; text-decoration-color: #008080; font-weight: bold\">-1.08</span><span style=\"font-weight: bold\">)</span>  cryptocur\n",
              "<span style=\"font-weight: bold\">(</span><span style=\"color: #008080; text-decoration-color: #008080; font-weight: bold\">-1.07</span><span style=\"font-weight: bold\">)</span>  Leban\n",
              "<span style=\"font-weight: bold\">(</span><span style=\"color: #008080; text-decoration-color: #008080; font-weight: bold\">-1.05</span><span style=\"font-weight: bold\">)</span> ÃÂ\n",
              "<span style=\"font-weight: bold\">(</span><span style=\"color: #008080; text-decoration-color: #008080; font-weight: bold\">-1.04</span><span style=\"font-weight: bold\">)</span> aukee\n",
              "<span style=\"font-weight: bold\">(</span><span style=\"color: #008080; text-decoration-color: #008080; font-weight: bold\">-1.04</span><span style=\"font-weight: bold\">)</span> pendicular\n",
              "<span style=\"font-weight: bold\">(</span><span style=\"color: #008080; text-decoration-color: #008080; font-weight: bold\">-1.04</span><span style=\"font-weight: bold\">)</span> ��\n",
              "<span style=\"font-weight: bold\">(</span><span style=\"color: #008080; text-decoration-color: #008080; font-weight: bold\">-1.04</span><span style=\"font-weight: bold\">)</span> avorable\n",
              "<span style=\"font-weight: bold\">(</span><span style=\"color: #008080; text-decoration-color: #008080; font-weight: bold\">-1.03</span><span style=\"font-weight: bold\">)</span> debted\n",
              "<span style=\"font-weight: bold\">(</span><span style=\"color: #008080; text-decoration-color: #008080; font-weight: bold\">-1.03</span><span style=\"font-weight: bold\">)</span> PtrFromString\n",
              "<span style=\"font-weight: bold\">(</span><span style=\"color: #008080; text-decoration-color: #008080; font-weight: bold\">-1.02</span><span style=\"font-weight: bold\">)</span> ellee\n",
              "\n",
              "</pre>\n"
            ]
          },
          "metadata": {}
        },
        {
          "output_type": "stream",
          "name": "stdout",
          "text": [
            "\n",
            "Analyzing high-probability feature 929:\n"
          ]
        },
        {
          "output_type": "display_data",
          "data": {
            "text/plain": [
              "\u001b[3m                   Tokens which most activate this feature                    \u001b[0m\n",
              "┏━━━━━━━━━━━━━━━━━━━━━━━━━━━━━━━━━━━━━━━━━━━━━━━━━━━━━━━━━━━━━━━┳━━━━━━━━━━━━┓\n",
              "┃\u001b[1m \u001b[0m\u001b[1mSequence                                                     \u001b[0m\u001b[1m \u001b[0m┃\u001b[1m \u001b[0m\u001b[1mActivation\u001b[0m\u001b[1m \u001b[0m┃\n",
              "┡━━━━━━━━━━━━━━━━━━━━━━━━━━━━━━━━━━━━━━━━━━━━━━━━━━━━━━━━━━━━━━━╇━━━━━━━━━━━━┩\n",
              "│  MERCHANTABILITY or FITNESS FOR A\u001b[1;4;38;5;208m PARTICULAR\u001b[0m PURPOSE.  See    │ 46.79      │\n",
              "│  of\\n# MERCHANTABILITY or\u001b[1;4;38;5;208m FITNESS\u001b[0m FOR A PARTICULAR PURPOSE    │ 46.34      │\n",
              "│ # MERCHANTABILITY or FITNESS FOR\u001b[1;4;38;5;208m A\u001b[0m PARTICULAR PURPOSE.        │ 45.96      │\n",
              "│  WITHOUT WARRANTIES OR CONDITIONS OF\u001b[1;4;38;5;208m ANY\u001b[0m KIND, either express │ 45.63      │\n",
              "│ # WITHOUT WARRANTIES OR CONDITIONS\u001b[1;4;38;5;208m OF\u001b[0m ANY KIND, either        │ 44.42      │\n",
              "│ \" BASIS,\\n#\u001b[1;4;38;5;208m WITHOUT\u001b[0m WARRANTIES OR CONDITIONS OF               │ 44.29      │\n",
              "│ # WITHOUT WARRANTIES OR CONDITIONS\u001b[1;4;38;5;208m OF\u001b[0m ANY KIND, either        │ 44.21      │\n",
              "│ ,\\n# but WITHOUT\u001b[1;4;38;5;208m ANY\u001b[0m WARRANTY; without even                   │ 43.86      │\n",
              "│ \" BASIS,\\n#\u001b[1;4;38;5;208m WITHOUT\u001b[0m WARRANTIES OR CONDITIONS OF               │ 43.70      │\n",
              "│  WITHOUT WARRANTIES OR CONDITIONS OF\u001b[1;4;38;5;208m ANY\u001b[0m KIND, either express │ 42.82      │\n",
              "└───────────────────────────────────────────────────────────────┴────────────┘\n"
            ],
            "text/html": [
              "<pre style=\"white-space:pre;overflow-x:auto;line-height:normal;font-family:Menlo,'DejaVu Sans Mono',consolas,'Courier New',monospace\"><span style=\"font-style: italic\">                   Tokens which most activate this feature                    </span>\n",
              "┏━━━━━━━━━━━━━━━━━━━━━━━━━━━━━━━━━━━━━━━━━━━━━━━━━━━━━━━━━━━━━━━┳━━━━━━━━━━━━┓\n",
              "┃<span style=\"font-weight: bold\"> Sequence                                                      </span>┃<span style=\"font-weight: bold\"> Activation </span>┃\n",
              "┡━━━━━━━━━━━━━━━━━━━━━━━━━━━━━━━━━━━━━━━━━━━━━━━━━━━━━━━━━━━━━━━╇━━━━━━━━━━━━┩\n",
              "│  MERCHANTABILITY or FITNESS FOR A<span style=\"color: #ff8700; text-decoration-color: #ff8700; font-weight: bold; text-decoration: underline\"> PARTICULAR</span> PURPOSE.  See    │ 46.79      │\n",
              "│  of\\n# MERCHANTABILITY or<span style=\"color: #ff8700; text-decoration-color: #ff8700; font-weight: bold; text-decoration: underline\"> FITNESS</span> FOR A PARTICULAR PURPOSE    │ 46.34      │\n",
              "│ # MERCHANTABILITY or FITNESS FOR<span style=\"color: #ff8700; text-decoration-color: #ff8700; font-weight: bold; text-decoration: underline\"> A</span> PARTICULAR PURPOSE.        │ 45.96      │\n",
              "│  WITHOUT WARRANTIES OR CONDITIONS OF<span style=\"color: #ff8700; text-decoration-color: #ff8700; font-weight: bold; text-decoration: underline\"> ANY</span> KIND, either express │ 45.63      │\n",
              "│ # WITHOUT WARRANTIES OR CONDITIONS<span style=\"color: #ff8700; text-decoration-color: #ff8700; font-weight: bold; text-decoration: underline\"> OF</span> ANY KIND, either        │ 44.42      │\n",
              "│ \" BASIS,\\n#<span style=\"color: #ff8700; text-decoration-color: #ff8700; font-weight: bold; text-decoration: underline\"> WITHOUT</span> WARRANTIES OR CONDITIONS OF               │ 44.29      │\n",
              "│ # WITHOUT WARRANTIES OR CONDITIONS<span style=\"color: #ff8700; text-decoration-color: #ff8700; font-weight: bold; text-decoration: underline\"> OF</span> ANY KIND, either        │ 44.21      │\n",
              "│ ,\\n# but WITHOUT<span style=\"color: #ff8700; text-decoration-color: #ff8700; font-weight: bold; text-decoration: underline\"> ANY</span> WARRANTY; without even                   │ 43.86      │\n",
              "│ \" BASIS,\\n#<span style=\"color: #ff8700; text-decoration-color: #ff8700; font-weight: bold; text-decoration: underline\"> WITHOUT</span> WARRANTIES OR CONDITIONS OF               │ 43.70      │\n",
              "│  WITHOUT WARRANTIES OR CONDITIONS OF<span style=\"color: #ff8700; text-decoration-color: #ff8700; font-weight: bold; text-decoration: underline\"> ANY</span> KIND, either express │ 42.82      │\n",
              "└───────────────────────────────────────────────────────────────┴────────────┘\n",
              "</pre>\n"
            ]
          },
          "metadata": {}
        },
        {
          "output_type": "display_data",
          "data": {
            "text/plain": [
              "Top tokens:\n",
              "\u001b[1m(\u001b[0m\u001b[1;36m0.91\u001b[0m\u001b[1m)\u001b[0m  IN\n",
              "\u001b[1m(\u001b[0m\u001b[1;36m0.91\u001b[0m\u001b[1m)\u001b[0m AS\n",
              "\u001b[1m(\u001b[0m\u001b[1;36m0.91\u001b[0m\u001b[1m)\u001b[0m -\n",
              "\u001b[1m(\u001b[0m\u001b[1;36m0.90\u001b[0m\u001b[1m)\u001b[0m  TO\n",
              "\u001b[1m(\u001b[0m\u001b[1;36m0.90\u001b[0m\u001b[1m)\u001b[0m  THE\n",
              "\u001b[1m(\u001b[0m\u001b[1;36m0.90\u001b[0m\u001b[1m)\u001b[0m  AS\n",
              "\u001b[1m(\u001b[0m\u001b[1;36m0.90\u001b[0m\u001b[1m)\u001b[0m  FOR\n",
              "\u001b[1m(\u001b[0m\u001b[1;36m0.90\u001b[0m\u001b[1m)\u001b[0m  OF\n",
              "\u001b[1m(\u001b[0m\u001b[1;36m0.89\u001b[0m\u001b[1m)\u001b[0m  BE\n",
              "\u001b[1m(\u001b[0m\u001b[1;36m0.89\u001b[0m\u001b[1m)\u001b[0m AG\n",
              "\n",
              "Bottom tokens:\n",
              "\u001b[1m(\u001b[0m\u001b[1;36m0.29\u001b[0m\u001b[1m)\u001b[0m  Palestin\n",
              "\u001b[1m(\u001b[0m\u001b[1;36m0.31\u001b[0m\u001b[1m)\u001b[0m dala\n",
              "\u001b[1m(\u001b[0m\u001b[1;36m0.33\u001b[0m\u001b[1m)\u001b[0m  Leban\n",
              "\u001b[1m(\u001b[0m\u001b[1;36m0.33\u001b[0m\u001b[1m)\u001b[0m brevi\n",
              "\u001b[1m(\u001b[0m\u001b[1;36m0.34\u001b[0m\u001b[1m)\u001b[0m bsy\n",
              "\u001b[1m(\u001b[0m\u001b[1;36m0.34\u001b[0m\u001b[1m)\u001b[0m ottom\n",
              "\u001b[1m(\u001b[0m\u001b[1;36m0.34\u001b[0m\u001b[1m)\u001b[0m ocarcin\n",
              "\u001b[1m(\u001b[0m\u001b[1;36m0.34\u001b[0m\u001b[1m)\u001b[0m orphous\n",
              "\u001b[1m(\u001b[0m\u001b[1;36m0.34\u001b[0m\u001b[1m)\u001b[0m imester\n",
              "\u001b[1m(\u001b[0m\u001b[1;36m0.34\u001b[0m\u001b[1m)\u001b[0m uclide\n",
              "\n"
            ],
            "text/html": [
              "<pre style=\"white-space:pre;overflow-x:auto;line-height:normal;font-family:Menlo,'DejaVu Sans Mono',consolas,'Courier New',monospace\">Top tokens:\n",
              "<span style=\"font-weight: bold\">(</span><span style=\"color: #008080; text-decoration-color: #008080; font-weight: bold\">0.91</span><span style=\"font-weight: bold\">)</span>  IN\n",
              "<span style=\"font-weight: bold\">(</span><span style=\"color: #008080; text-decoration-color: #008080; font-weight: bold\">0.91</span><span style=\"font-weight: bold\">)</span> AS\n",
              "<span style=\"font-weight: bold\">(</span><span style=\"color: #008080; text-decoration-color: #008080; font-weight: bold\">0.91</span><span style=\"font-weight: bold\">)</span> -\n",
              "<span style=\"font-weight: bold\">(</span><span style=\"color: #008080; text-decoration-color: #008080; font-weight: bold\">0.90</span><span style=\"font-weight: bold\">)</span>  TO\n",
              "<span style=\"font-weight: bold\">(</span><span style=\"color: #008080; text-decoration-color: #008080; font-weight: bold\">0.90</span><span style=\"font-weight: bold\">)</span>  THE\n",
              "<span style=\"font-weight: bold\">(</span><span style=\"color: #008080; text-decoration-color: #008080; font-weight: bold\">0.90</span><span style=\"font-weight: bold\">)</span>  AS\n",
              "<span style=\"font-weight: bold\">(</span><span style=\"color: #008080; text-decoration-color: #008080; font-weight: bold\">0.90</span><span style=\"font-weight: bold\">)</span>  FOR\n",
              "<span style=\"font-weight: bold\">(</span><span style=\"color: #008080; text-decoration-color: #008080; font-weight: bold\">0.90</span><span style=\"font-weight: bold\">)</span>  OF\n",
              "<span style=\"font-weight: bold\">(</span><span style=\"color: #008080; text-decoration-color: #008080; font-weight: bold\">0.89</span><span style=\"font-weight: bold\">)</span>  BE\n",
              "<span style=\"font-weight: bold\">(</span><span style=\"color: #008080; text-decoration-color: #008080; font-weight: bold\">0.89</span><span style=\"font-weight: bold\">)</span> AG\n",
              "\n",
              "Bottom tokens:\n",
              "<span style=\"font-weight: bold\">(</span><span style=\"color: #008080; text-decoration-color: #008080; font-weight: bold\">0.29</span><span style=\"font-weight: bold\">)</span>  Palestin\n",
              "<span style=\"font-weight: bold\">(</span><span style=\"color: #008080; text-decoration-color: #008080; font-weight: bold\">0.31</span><span style=\"font-weight: bold\">)</span> dala\n",
              "<span style=\"font-weight: bold\">(</span><span style=\"color: #008080; text-decoration-color: #008080; font-weight: bold\">0.33</span><span style=\"font-weight: bold\">)</span>  Leban\n",
              "<span style=\"font-weight: bold\">(</span><span style=\"color: #008080; text-decoration-color: #008080; font-weight: bold\">0.33</span><span style=\"font-weight: bold\">)</span> brevi\n",
              "<span style=\"font-weight: bold\">(</span><span style=\"color: #008080; text-decoration-color: #008080; font-weight: bold\">0.34</span><span style=\"font-weight: bold\">)</span> bsy\n",
              "<span style=\"font-weight: bold\">(</span><span style=\"color: #008080; text-decoration-color: #008080; font-weight: bold\">0.34</span><span style=\"font-weight: bold\">)</span> ottom\n",
              "<span style=\"font-weight: bold\">(</span><span style=\"color: #008080; text-decoration-color: #008080; font-weight: bold\">0.34</span><span style=\"font-weight: bold\">)</span> ocarcin\n",
              "<span style=\"font-weight: bold\">(</span><span style=\"color: #008080; text-decoration-color: #008080; font-weight: bold\">0.34</span><span style=\"font-weight: bold\">)</span> orphous\n",
              "<span style=\"font-weight: bold\">(</span><span style=\"color: #008080; text-decoration-color: #008080; font-weight: bold\">0.34</span><span style=\"font-weight: bold\">)</span> imester\n",
              "<span style=\"font-weight: bold\">(</span><span style=\"color: #008080; text-decoration-color: #008080; font-weight: bold\">0.34</span><span style=\"font-weight: bold\">)</span> uclide\n",
              "\n",
              "</pre>\n"
            ]
          },
          "metadata": {}
        }
      ]
    }
  ]
}